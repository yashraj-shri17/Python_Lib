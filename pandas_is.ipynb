{
 "cells": [
  {
   "cell_type": "code",
   "execution_count": 21,
   "id": "2199b7ec",
   "metadata": {},
   "outputs": [],
   "source": [
    "import pandas as pd"
   ]
  },
  {
   "cell_type": "code",
   "execution_count": 22,
   "id": "bc77d0c5",
   "metadata": {},
   "outputs": [],
   "source": [
    "import numpy as np"
   ]
  },
  {
   "cell_type": "code",
   "execution_count": 23,
   "id": "494dfe65",
   "metadata": {},
   "outputs": [],
   "source": [
    "import sys "
   ]
  },
  {
   "cell_type": "code",
   "execution_count": 24,
   "id": "83d29c67",
   "metadata": {},
   "outputs": [],
   "source": [
    "#creating Datafram"
   ]
  },
  {
   "cell_type": "code",
   "execution_count": 25,
   "id": "2c9d7e66",
   "metadata": {},
   "outputs": [],
   "source": [
    "user_1 = pd.DataFrame([[1,'YASH',18,'BSC'],[2,'ROHIT',20,'BSC'],[3,'DINKAR',21,'BSC']])"
   ]
  },
  {
   "cell_type": "code",
   "execution_count": 26,
   "id": "becfdf3a",
   "metadata": {},
   "outputs": [],
   "source": [
    "cols = ['ROLL_NO','NAME','AGE','DEGREE']"
   ]
  },
  {
   "cell_type": "code",
   "execution_count": 27,
   "id": "08f14a69",
   "metadata": {},
   "outputs": [],
   "source": [
    "user_2 =  pd.DataFrame([[1,'YASH',18,'BSC'],[2,'ROHIT',20,'BSC'],[3,'DINKAR',21,'BSC']],columns = cols)"
   ]
  },
  {
   "cell_type": "code",
   "execution_count": 28,
   "id": "3996b3c5",
   "metadata": {},
   "outputs": [
    {
     "data": {
      "text/html": [
       "<div>\n",
       "<style scoped>\n",
       "    .dataframe tbody tr th:only-of-type {\n",
       "        vertical-align: middle;\n",
       "    }\n",
       "\n",
       "    .dataframe tbody tr th {\n",
       "        vertical-align: top;\n",
       "    }\n",
       "\n",
       "    .dataframe thead th {\n",
       "        text-align: right;\n",
       "    }\n",
       "</style>\n",
       "<table border=\"1\" class=\"dataframe\">\n",
       "  <thead>\n",
       "    <tr style=\"text-align: right;\">\n",
       "      <th></th>\n",
       "      <th>ROLL_NO</th>\n",
       "      <th>NAME</th>\n",
       "      <th>AGE</th>\n",
       "      <th>DEGREE</th>\n",
       "    </tr>\n",
       "  </thead>\n",
       "  <tbody>\n",
       "    <tr>\n",
       "      <th>0</th>\n",
       "      <td>1</td>\n",
       "      <td>YASH</td>\n",
       "      <td>18</td>\n",
       "      <td>BSC</td>\n",
       "    </tr>\n",
       "    <tr>\n",
       "      <th>1</th>\n",
       "      <td>2</td>\n",
       "      <td>ROHIT</td>\n",
       "      <td>20</td>\n",
       "      <td>BSC</td>\n",
       "    </tr>\n",
       "    <tr>\n",
       "      <th>2</th>\n",
       "      <td>3</td>\n",
       "      <td>DINKAR</td>\n",
       "      <td>21</td>\n",
       "      <td>BSC</td>\n",
       "    </tr>\n",
       "  </tbody>\n",
       "</table>\n",
       "</div>"
      ],
      "text/plain": [
       "   ROLL_NO    NAME  AGE DEGREE\n",
       "0        1    YASH   18    BSC\n",
       "1        2   ROHIT   20    BSC\n",
       "2        3  DINKAR   21    BSC"
      ]
     },
     "execution_count": 28,
     "metadata": {},
     "output_type": "execute_result"
    }
   ],
   "source": [
    "user_2"
   ]
  },
  {
   "cell_type": "code",
   "execution_count": 29,
   "id": "665b5d12",
   "metadata": {},
   "outputs": [],
   "source": [
    "#Creating dataframe using dictionary"
   ]
  },
  {
   "cell_type": "code",
   "execution_count": 30,
   "id": "48995d1c",
   "metadata": {},
   "outputs": [],
   "source": [
    "user_3 = pd.DataFrame(dict(Roll_Number = [1,2,3],Name = ['Yash','Rohit','Preyanshu'],Age = [18,20,19]))"
   ]
  },
  {
   "cell_type": "code",
   "execution_count": 31,
   "id": "f13ec055",
   "metadata": {},
   "outputs": [
    {
     "data": {
      "text/html": [
       "<div>\n",
       "<style scoped>\n",
       "    .dataframe tbody tr th:only-of-type {\n",
       "        vertical-align: middle;\n",
       "    }\n",
       "\n",
       "    .dataframe tbody tr th {\n",
       "        vertical-align: top;\n",
       "    }\n",
       "\n",
       "    .dataframe thead th {\n",
       "        text-align: right;\n",
       "    }\n",
       "</style>\n",
       "<table border=\"1\" class=\"dataframe\">\n",
       "  <thead>\n",
       "    <tr style=\"text-align: right;\">\n",
       "      <th></th>\n",
       "      <th>Roll_Number</th>\n",
       "      <th>Name</th>\n",
       "      <th>Age</th>\n",
       "    </tr>\n",
       "  </thead>\n",
       "  <tbody>\n",
       "    <tr>\n",
       "      <th>0</th>\n",
       "      <td>1</td>\n",
       "      <td>Yash</td>\n",
       "      <td>18</td>\n",
       "    </tr>\n",
       "    <tr>\n",
       "      <th>1</th>\n",
       "      <td>2</td>\n",
       "      <td>Rohit</td>\n",
       "      <td>20</td>\n",
       "    </tr>\n",
       "    <tr>\n",
       "      <th>2</th>\n",
       "      <td>3</td>\n",
       "      <td>Preyanshu</td>\n",
       "      <td>19</td>\n",
       "    </tr>\n",
       "  </tbody>\n",
       "</table>\n",
       "</div>"
      ],
      "text/plain": [
       "   Roll_Number       Name  Age\n",
       "0            1       Yash   18\n",
       "1            2      Rohit   20\n",
       "2            3  Preyanshu   19"
      ]
     },
     "execution_count": 31,
     "metadata": {},
     "output_type": "execute_result"
    }
   ],
   "source": [
    "user_3"
   ]
  },
  {
   "cell_type": "code",
   "execution_count": 32,
   "id": "f68c1bd7",
   "metadata": {},
   "outputs": [],
   "source": [
    "#Creating Series"
   ]
  },
  {
   "cell_type": "code",
   "execution_count": 33,
   "id": "03c902b3",
   "metadata": {},
   "outputs": [],
   "source": [
    "x = [1,2,3,4,5,6]"
   ]
  },
  {
   "cell_type": "code",
   "execution_count": 34,
   "id": "e7b4b2e0",
   "metadata": {},
   "outputs": [],
   "source": [
    "s=pd.Series(x)"
   ]
  },
  {
   "cell_type": "code",
   "execution_count": 35,
   "id": "66d0f32e",
   "metadata": {},
   "outputs": [
    {
     "data": {
      "text/plain": [
       "0    1\n",
       "1    2\n",
       "2    3\n",
       "3    4\n",
       "4    5\n",
       "5    6\n",
       "dtype: int64"
      ]
     },
     "execution_count": 35,
     "metadata": {},
     "output_type": "execute_result"
    }
   ],
   "source": [
    "s"
   ]
  },
  {
   "cell_type": "code",
   "execution_count": 36,
   "id": "48e291b1",
   "metadata": {},
   "outputs": [],
   "source": [
    "Index = ['A','B','C','D','E','F']"
   ]
  },
  {
   "cell_type": "code",
   "execution_count": 37,
   "id": "c83d817f",
   "metadata": {},
   "outputs": [],
   "source": [
    "s1 = pd.Series(data =x , index = Index)"
   ]
  },
  {
   "cell_type": "code",
   "execution_count": 38,
   "id": "bd2fa315",
   "metadata": {},
   "outputs": [
    {
     "data": {
      "text/plain": [
       "A    1\n",
       "B    2\n",
       "C    3\n",
       "D    4\n",
       "E    5\n",
       "F    6\n",
       "dtype: int64"
      ]
     },
     "execution_count": 38,
     "metadata": {},
     "output_type": "execute_result"
    }
   ],
   "source": [
    "    s1"
   ]
  },
  {
   "cell_type": "code",
   "execution_count": 39,
   "id": "b9a1c306",
   "metadata": {},
   "outputs": [],
   "source": [
    "#Creating DF from dict"
   ]
  },
  {
   "cell_type": "code",
   "execution_count": 40,
   "id": "a4747763",
   "metadata": {},
   "outputs": [],
   "source": [
    "Countries = ['Aus', 'Ind' ,'Jap','Chi','Rus',]"
   ]
  },
  {
   "cell_type": "code",
   "execution_count": 41,
   "id": "468c4596",
   "metadata": {},
   "outputs": [],
   "source": [
    "Visa = ['A','I','J','C','R']"
   ]
  },
  {
   "cell_type": "code",
   "execution_count": 42,
   "id": "488200cf",
   "metadata": {},
   "outputs": [],
   "source": [
    "Power = ['P','PM','P','P','PM']"
   ]
  },
  {
   "cell_type": "code",
   "execution_count": 43,
   "id": "230a7bad",
   "metadata": {},
   "outputs": [],
   "source": [
    "dictionary = {'Countries' : Countries , 'Visa' : Visa , 'Power' : Power}"
   ]
  },
  {
   "cell_type": "code",
   "execution_count": 44,
   "id": "da7c6e87",
   "metadata": {},
   "outputs": [],
   "source": [
    "my_dict = pd.DataFrame(dictionary)"
   ]
  },
  {
   "cell_type": "code",
   "execution_count": 45,
   "id": "83c61acf",
   "metadata": {},
   "outputs": [
    {
     "data": {
      "text/html": [
       "<div>\n",
       "<style scoped>\n",
       "    .dataframe tbody tr th:only-of-type {\n",
       "        vertical-align: middle;\n",
       "    }\n",
       "\n",
       "    .dataframe tbody tr th {\n",
       "        vertical-align: top;\n",
       "    }\n",
       "\n",
       "    .dataframe thead th {\n",
       "        text-align: right;\n",
       "    }\n",
       "</style>\n",
       "<table border=\"1\" class=\"dataframe\">\n",
       "  <thead>\n",
       "    <tr style=\"text-align: right;\">\n",
       "      <th></th>\n",
       "      <th>Countries</th>\n",
       "      <th>Visa</th>\n",
       "      <th>Power</th>\n",
       "    </tr>\n",
       "  </thead>\n",
       "  <tbody>\n",
       "    <tr>\n",
       "      <th>0</th>\n",
       "      <td>Aus</td>\n",
       "      <td>A</td>\n",
       "      <td>P</td>\n",
       "    </tr>\n",
       "    <tr>\n",
       "      <th>1</th>\n",
       "      <td>Ind</td>\n",
       "      <td>I</td>\n",
       "      <td>PM</td>\n",
       "    </tr>\n",
       "    <tr>\n",
       "      <th>2</th>\n",
       "      <td>Jap</td>\n",
       "      <td>J</td>\n",
       "      <td>P</td>\n",
       "    </tr>\n",
       "    <tr>\n",
       "      <th>3</th>\n",
       "      <td>Chi</td>\n",
       "      <td>C</td>\n",
       "      <td>P</td>\n",
       "    </tr>\n",
       "    <tr>\n",
       "      <th>4</th>\n",
       "      <td>Rus</td>\n",
       "      <td>R</td>\n",
       "      <td>PM</td>\n",
       "    </tr>\n",
       "  </tbody>\n",
       "</table>\n",
       "</div>"
      ],
      "text/plain": [
       "  Countries Visa Power\n",
       "0       Aus    A     P\n",
       "1       Ind    I    PM\n",
       "2       Jap    J     P\n",
       "3       Chi    C     P\n",
       "4       Rus    R    PM"
      ]
     },
     "execution_count": 45,
     "metadata": {},
     "output_type": "execute_result"
    }
   ],
   "source": [
    "my_dict"
   ]
  },
  {
   "cell_type": "code",
   "execution_count": 46,
   "id": "4ff5b4ac",
   "metadata": {},
   "outputs": [
    {
     "data": {
      "text/plain": [
       "RangeIndex(start=0, stop=5, step=1)"
      ]
     },
     "execution_count": 46,
     "metadata": {},
     "output_type": "execute_result"
    }
   ],
   "source": [
    "my_dict.index"
   ]
  },
  {
   "cell_type": "code",
   "execution_count": 47,
   "id": "2e90e32b",
   "metadata": {},
   "outputs": [],
   "source": [
    "row_labels = ['a','b','c','d','e']"
   ]
  },
  {
   "cell_type": "code",
   "execution_count": 48,
   "id": "c05056d0",
   "metadata": {},
   "outputs": [],
   "source": [
    "my_dict.index = row_labels"
   ]
  },
  {
   "cell_type": "code",
   "execution_count": 49,
   "id": "84617316",
   "metadata": {},
   "outputs": [
    {
     "data": {
      "text/html": [
       "<div>\n",
       "<style scoped>\n",
       "    .dataframe tbody tr th:only-of-type {\n",
       "        vertical-align: middle;\n",
       "    }\n",
       "\n",
       "    .dataframe tbody tr th {\n",
       "        vertical-align: top;\n",
       "    }\n",
       "\n",
       "    .dataframe thead th {\n",
       "        text-align: right;\n",
       "    }\n",
       "</style>\n",
       "<table border=\"1\" class=\"dataframe\">\n",
       "  <thead>\n",
       "    <tr style=\"text-align: right;\">\n",
       "      <th></th>\n",
       "      <th>Countries</th>\n",
       "      <th>Visa</th>\n",
       "      <th>Power</th>\n",
       "    </tr>\n",
       "  </thead>\n",
       "  <tbody>\n",
       "    <tr>\n",
       "      <th>a</th>\n",
       "      <td>Aus</td>\n",
       "      <td>A</td>\n",
       "      <td>P</td>\n",
       "    </tr>\n",
       "    <tr>\n",
       "      <th>b</th>\n",
       "      <td>Ind</td>\n",
       "      <td>I</td>\n",
       "      <td>PM</td>\n",
       "    </tr>\n",
       "    <tr>\n",
       "      <th>c</th>\n",
       "      <td>Jap</td>\n",
       "      <td>J</td>\n",
       "      <td>P</td>\n",
       "    </tr>\n",
       "    <tr>\n",
       "      <th>d</th>\n",
       "      <td>Chi</td>\n",
       "      <td>C</td>\n",
       "      <td>P</td>\n",
       "    </tr>\n",
       "    <tr>\n",
       "      <th>e</th>\n",
       "      <td>Rus</td>\n",
       "      <td>R</td>\n",
       "      <td>PM</td>\n",
       "    </tr>\n",
       "  </tbody>\n",
       "</table>\n",
       "</div>"
      ],
      "text/plain": [
       "  Countries Visa Power\n",
       "a       Aus    A     P\n",
       "b       Ind    I    PM\n",
       "c       Jap    J     P\n",
       "d       Chi    C     P\n",
       "e       Rus    R    PM"
      ]
     },
     "execution_count": 49,
     "metadata": {},
     "output_type": "execute_result"
    }
   ],
   "source": [
    "my_dict"
   ]
  },
  {
   "cell_type": "code",
   "execution_count": 50,
   "id": "8aef6410",
   "metadata": {},
   "outputs": [],
   "source": [
    "#CONCATING TWO DF"
   ]
  },
  {
   "cell_type": "code",
   "execution_count": 51,
   "id": "1a0cd77c",
   "metadata": {},
   "outputs": [],
   "source": [
    "cols = ['Name','AGE','SEX']"
   ]
  },
  {
   "cell_type": "code",
   "execution_count": 52,
   "id": "8f1200f8",
   "metadata": {},
   "outputs": [],
   "source": [
    "DF1 = pd.DataFrame([['Yash','18','m'],['rohit','18','m'],['vijay','18','fm']],columns = cols )"
   ]
  },
  {
   "cell_type": "code",
   "execution_count": 53,
   "id": "0bd4d9f5",
   "metadata": {},
   "outputs": [],
   "source": [
    "DF2 = pd.DataFrame(dict(Name = ['dINKAR','PREYANSHU'],AGE = [18,19],SEX = ['M','F']))"
   ]
  },
  {
   "cell_type": "code",
   "execution_count": 54,
   "id": "3a9c1518",
   "metadata": {},
   "outputs": [],
   "source": [
    "DF_FINAL = pd.concat((DF1,DF2))"
   ]
  },
  {
   "cell_type": "code",
   "execution_count": 55,
   "id": "40fed8c0",
   "metadata": {},
   "outputs": [
    {
     "data": {
      "text/html": [
       "<div>\n",
       "<style scoped>\n",
       "    .dataframe tbody tr th:only-of-type {\n",
       "        vertical-align: middle;\n",
       "    }\n",
       "\n",
       "    .dataframe tbody tr th {\n",
       "        vertical-align: top;\n",
       "    }\n",
       "\n",
       "    .dataframe thead th {\n",
       "        text-align: right;\n",
       "    }\n",
       "</style>\n",
       "<table border=\"1\" class=\"dataframe\">\n",
       "  <thead>\n",
       "    <tr style=\"text-align: right;\">\n",
       "      <th></th>\n",
       "      <th>Name</th>\n",
       "      <th>AGE</th>\n",
       "      <th>SEX</th>\n",
       "    </tr>\n",
       "  </thead>\n",
       "  <tbody>\n",
       "    <tr>\n",
       "      <th>0</th>\n",
       "      <td>Yash</td>\n",
       "      <td>18</td>\n",
       "      <td>m</td>\n",
       "    </tr>\n",
       "    <tr>\n",
       "      <th>1</th>\n",
       "      <td>rohit</td>\n",
       "      <td>18</td>\n",
       "      <td>m</td>\n",
       "    </tr>\n",
       "    <tr>\n",
       "      <th>2</th>\n",
       "      <td>vijay</td>\n",
       "      <td>18</td>\n",
       "      <td>fm</td>\n",
       "    </tr>\n",
       "    <tr>\n",
       "      <th>0</th>\n",
       "      <td>dINKAR</td>\n",
       "      <td>18</td>\n",
       "      <td>M</td>\n",
       "    </tr>\n",
       "    <tr>\n",
       "      <th>1</th>\n",
       "      <td>PREYANSHU</td>\n",
       "      <td>19</td>\n",
       "      <td>F</td>\n",
       "    </tr>\n",
       "  </tbody>\n",
       "</table>\n",
       "</div>"
      ],
      "text/plain": [
       "        Name AGE SEX\n",
       "0       Yash  18   m\n",
       "1      rohit  18   m\n",
       "2      vijay  18  fm\n",
       "0     dINKAR  18   M\n",
       "1  PREYANSHU  19   F"
      ]
     },
     "execution_count": 55,
     "metadata": {},
     "output_type": "execute_result"
    }
   ],
   "source": [
    "DF_FINAL"
   ]
  },
  {
   "cell_type": "code",
   "execution_count": 56,
   "id": "54138497",
   "metadata": {},
   "outputs": [],
   "source": [
    "#Suppose i want to add one more column which is Salary , we will use \"MERGE\" function"
   ]
  },
  {
   "cell_type": "code",
   "execution_count": 57,
   "id": "4ab4fa4c",
   "metadata": {},
   "outputs": [],
   "source": [
    "df_sal = pd.DataFrame(dict(Name = ['Yash','vijay'],Sal = [2000,300]))"
   ]
  },
  {
   "cell_type": "code",
   "execution_count": 58,
   "id": "4911cb79",
   "metadata": {},
   "outputs": [],
   "source": [
    "inner = pd.merge(DF_FINAL,df_sal,how='inner',on='Name')"
   ]
  },
  {
   "cell_type": "code",
   "execution_count": 59,
   "id": "5a8bb822",
   "metadata": {},
   "outputs": [
    {
     "data": {
      "text/html": [
       "<div>\n",
       "<style scoped>\n",
       "    .dataframe tbody tr th:only-of-type {\n",
       "        vertical-align: middle;\n",
       "    }\n",
       "\n",
       "    .dataframe tbody tr th {\n",
       "        vertical-align: top;\n",
       "    }\n",
       "\n",
       "    .dataframe thead th {\n",
       "        text-align: right;\n",
       "    }\n",
       "</style>\n",
       "<table border=\"1\" class=\"dataframe\">\n",
       "  <thead>\n",
       "    <tr style=\"text-align: right;\">\n",
       "      <th></th>\n",
       "      <th>Name</th>\n",
       "      <th>AGE</th>\n",
       "      <th>SEX</th>\n",
       "      <th>Sal</th>\n",
       "    </tr>\n",
       "  </thead>\n",
       "  <tbody>\n",
       "    <tr>\n",
       "      <th>0</th>\n",
       "      <td>Yash</td>\n",
       "      <td>18</td>\n",
       "      <td>m</td>\n",
       "      <td>2000</td>\n",
       "    </tr>\n",
       "    <tr>\n",
       "      <th>1</th>\n",
       "      <td>vijay</td>\n",
       "      <td>18</td>\n",
       "      <td>fm</td>\n",
       "      <td>300</td>\n",
       "    </tr>\n",
       "  </tbody>\n",
       "</table>\n",
       "</div>"
      ],
      "text/plain": [
       "    Name AGE SEX   Sal\n",
       "0   Yash  18   m  2000\n",
       "1  vijay  18  fm   300"
      ]
     },
     "execution_count": 59,
     "metadata": {},
     "output_type": "execute_result"
    }
   ],
   "source": [
    "inner"
   ]
  },
  {
   "cell_type": "code",
   "execution_count": 60,
   "id": "35d7509b",
   "metadata": {},
   "outputs": [],
   "source": [
    "outer = pd.merge(DF_FINAL,df_sal,how='outer',on='Name')"
   ]
  },
  {
   "cell_type": "code",
   "execution_count": 61,
   "id": "a8f60c5d",
   "metadata": {},
   "outputs": [
    {
     "data": {
      "text/html": [
       "<div>\n",
       "<style scoped>\n",
       "    .dataframe tbody tr th:only-of-type {\n",
       "        vertical-align: middle;\n",
       "    }\n",
       "\n",
       "    .dataframe tbody tr th {\n",
       "        vertical-align: top;\n",
       "    }\n",
       "\n",
       "    .dataframe thead th {\n",
       "        text-align: right;\n",
       "    }\n",
       "</style>\n",
       "<table border=\"1\" class=\"dataframe\">\n",
       "  <thead>\n",
       "    <tr style=\"text-align: right;\">\n",
       "      <th></th>\n",
       "      <th>Name</th>\n",
       "      <th>AGE</th>\n",
       "      <th>SEX</th>\n",
       "      <th>Sal</th>\n",
       "    </tr>\n",
       "  </thead>\n",
       "  <tbody>\n",
       "    <tr>\n",
       "      <th>0</th>\n",
       "      <td>Yash</td>\n",
       "      <td>18</td>\n",
       "      <td>m</td>\n",
       "      <td>2000.0</td>\n",
       "    </tr>\n",
       "    <tr>\n",
       "      <th>1</th>\n",
       "      <td>rohit</td>\n",
       "      <td>18</td>\n",
       "      <td>m</td>\n",
       "      <td>NaN</td>\n",
       "    </tr>\n",
       "    <tr>\n",
       "      <th>2</th>\n",
       "      <td>vijay</td>\n",
       "      <td>18</td>\n",
       "      <td>fm</td>\n",
       "      <td>300.0</td>\n",
       "    </tr>\n",
       "    <tr>\n",
       "      <th>3</th>\n",
       "      <td>dINKAR</td>\n",
       "      <td>18</td>\n",
       "      <td>M</td>\n",
       "      <td>NaN</td>\n",
       "    </tr>\n",
       "    <tr>\n",
       "      <th>4</th>\n",
       "      <td>PREYANSHU</td>\n",
       "      <td>19</td>\n",
       "      <td>F</td>\n",
       "      <td>NaN</td>\n",
       "    </tr>\n",
       "  </tbody>\n",
       "</table>\n",
       "</div>"
      ],
      "text/plain": [
       "        Name AGE SEX     Sal\n",
       "0       Yash  18   m  2000.0\n",
       "1      rohit  18   m     NaN\n",
       "2      vijay  18  fm   300.0\n",
       "3     dINKAR  18   M     NaN\n",
       "4  PREYANSHU  19   F     NaN"
      ]
     },
     "execution_count": 61,
     "metadata": {},
     "output_type": "execute_result"
    }
   ],
   "source": [
    "outer"
   ]
  },
  {
   "cell_type": "code",
   "execution_count": 62,
   "id": "3f65b59c",
   "metadata": {},
   "outputs": [],
   "source": [
    "#RESHAPPING DATAFRAME by melt function"
   ]
  },
  {
   "cell_type": "code",
   "execution_count": 63,
   "id": "49921f26",
   "metadata": {},
   "outputs": [],
   "source": [
    "stack = pd.melt(DF_FINAL, id_vars = 'Name',var_name ='variable',value_name ='value')"
   ]
  },
  {
   "cell_type": "code",
   "execution_count": 64,
   "id": "649d82c9",
   "metadata": {},
   "outputs": [
    {
     "data": {
      "text/html": [
       "<div>\n",
       "<style scoped>\n",
       "    .dataframe tbody tr th:only-of-type {\n",
       "        vertical-align: middle;\n",
       "    }\n",
       "\n",
       "    .dataframe tbody tr th {\n",
       "        vertical-align: top;\n",
       "    }\n",
       "\n",
       "    .dataframe thead th {\n",
       "        text-align: right;\n",
       "    }\n",
       "</style>\n",
       "<table border=\"1\" class=\"dataframe\">\n",
       "  <thead>\n",
       "    <tr style=\"text-align: right;\">\n",
       "      <th></th>\n",
       "      <th>Name</th>\n",
       "      <th>variable</th>\n",
       "      <th>value</th>\n",
       "    </tr>\n",
       "  </thead>\n",
       "  <tbody>\n",
       "    <tr>\n",
       "      <th>0</th>\n",
       "      <td>Yash</td>\n",
       "      <td>AGE</td>\n",
       "      <td>18</td>\n",
       "    </tr>\n",
       "    <tr>\n",
       "      <th>1</th>\n",
       "      <td>rohit</td>\n",
       "      <td>AGE</td>\n",
       "      <td>18</td>\n",
       "    </tr>\n",
       "    <tr>\n",
       "      <th>2</th>\n",
       "      <td>vijay</td>\n",
       "      <td>AGE</td>\n",
       "      <td>18</td>\n",
       "    </tr>\n",
       "    <tr>\n",
       "      <th>3</th>\n",
       "      <td>dINKAR</td>\n",
       "      <td>AGE</td>\n",
       "      <td>18</td>\n",
       "    </tr>\n",
       "    <tr>\n",
       "      <th>4</th>\n",
       "      <td>PREYANSHU</td>\n",
       "      <td>AGE</td>\n",
       "      <td>19</td>\n",
       "    </tr>\n",
       "    <tr>\n",
       "      <th>5</th>\n",
       "      <td>Yash</td>\n",
       "      <td>SEX</td>\n",
       "      <td>m</td>\n",
       "    </tr>\n",
       "    <tr>\n",
       "      <th>6</th>\n",
       "      <td>rohit</td>\n",
       "      <td>SEX</td>\n",
       "      <td>m</td>\n",
       "    </tr>\n",
       "    <tr>\n",
       "      <th>7</th>\n",
       "      <td>vijay</td>\n",
       "      <td>SEX</td>\n",
       "      <td>fm</td>\n",
       "    </tr>\n",
       "    <tr>\n",
       "      <th>8</th>\n",
       "      <td>dINKAR</td>\n",
       "      <td>SEX</td>\n",
       "      <td>M</td>\n",
       "    </tr>\n",
       "    <tr>\n",
       "      <th>9</th>\n",
       "      <td>PREYANSHU</td>\n",
       "      <td>SEX</td>\n",
       "      <td>F</td>\n",
       "    </tr>\n",
       "  </tbody>\n",
       "</table>\n",
       "</div>"
      ],
      "text/plain": [
       "        Name variable value\n",
       "0       Yash      AGE    18\n",
       "1      rohit      AGE    18\n",
       "2      vijay      AGE    18\n",
       "3     dINKAR      AGE    18\n",
       "4  PREYANSHU      AGE    19\n",
       "5       Yash      SEX     m\n",
       "6      rohit      SEX     m\n",
       "7      vijay      SEX    fm\n",
       "8     dINKAR      SEX     M\n",
       "9  PREYANSHU      SEX     F"
      ]
     },
     "execution_count": 64,
     "metadata": {},
     "output_type": "execute_result"
    }
   ],
   "source": [
    "stack"
   ]
  },
  {
   "cell_type": "code",
   "execution_count": 65,
   "id": "d223e983",
   "metadata": {},
   "outputs": [],
   "source": [
    "#again converting it back"
   ]
  },
  {
   "cell_type": "code",
   "execution_count": 66,
   "id": "f13e98c8",
   "metadata": {},
   "outputs": [
    {
     "name": "stdout",
     "output_type": "stream",
     "text": [
      "variable  AGE SEX\n",
      "Name             \n",
      "PREYANSHU  19   F\n",
      "Yash       18   m\n",
      "dINKAR     18   M\n",
      "rohit      18   m\n",
      "vijay      18  fm\n"
     ]
    }
   ],
   "source": [
    "print(stack.pivot(index = 'Name',columns='variable',values = 'value'))"
   ]
  },
  {
   "cell_type": "code",
   "execution_count": 67,
   "id": "353ebe03",
   "metadata": {},
   "outputs": [],
   "source": [
    "#SUMMARIZING"
   ]
  },
  {
   "cell_type": "code",
   "execution_count": 68,
   "id": "9f3b5caa",
   "metadata": {},
   "outputs": [],
   "source": [
    "#TYPE OF DF"
   ]
  },
  {
   "cell_type": "code",
   "execution_count": 69,
   "id": "92d34556",
   "metadata": {},
   "outputs": [
    {
     "data": {
      "text/plain": [
       "pandas.core.frame.DataFrame"
      ]
     },
     "execution_count": 69,
     "metadata": {},
     "output_type": "execute_result"
    }
   ],
   "source": [
    "type(DF_FINAL)"
   ]
  },
  {
   "cell_type": "code",
   "execution_count": 70,
   "id": "bc7f4d36",
   "metadata": {},
   "outputs": [],
   "source": [
    "#PRINT TOP 5 ROWS"
   ]
  },
  {
   "cell_type": "code",
   "execution_count": 71,
   "id": "a4c53d5e",
   "metadata": {},
   "outputs": [
    {
     "data": {
      "text/html": [
       "<div>\n",
       "<style scoped>\n",
       "    .dataframe tbody tr th:only-of-type {\n",
       "        vertical-align: middle;\n",
       "    }\n",
       "\n",
       "    .dataframe tbody tr th {\n",
       "        vertical-align: top;\n",
       "    }\n",
       "\n",
       "    .dataframe thead th {\n",
       "        text-align: right;\n",
       "    }\n",
       "</style>\n",
       "<table border=\"1\" class=\"dataframe\">\n",
       "  <thead>\n",
       "    <tr style=\"text-align: right;\">\n",
       "      <th></th>\n",
       "      <th>Name</th>\n",
       "      <th>AGE</th>\n",
       "      <th>SEX</th>\n",
       "    </tr>\n",
       "  </thead>\n",
       "  <tbody>\n",
       "    <tr>\n",
       "      <th>0</th>\n",
       "      <td>Yash</td>\n",
       "      <td>18</td>\n",
       "      <td>m</td>\n",
       "    </tr>\n",
       "    <tr>\n",
       "      <th>1</th>\n",
       "      <td>rohit</td>\n",
       "      <td>18</td>\n",
       "      <td>m</td>\n",
       "    </tr>\n",
       "    <tr>\n",
       "      <th>2</th>\n",
       "      <td>vijay</td>\n",
       "      <td>18</td>\n",
       "      <td>fm</td>\n",
       "    </tr>\n",
       "    <tr>\n",
       "      <th>0</th>\n",
       "      <td>dINKAR</td>\n",
       "      <td>18</td>\n",
       "      <td>M</td>\n",
       "    </tr>\n",
       "    <tr>\n",
       "      <th>1</th>\n",
       "      <td>PREYANSHU</td>\n",
       "      <td>19</td>\n",
       "      <td>F</td>\n",
       "    </tr>\n",
       "  </tbody>\n",
       "</table>\n",
       "</div>"
      ],
      "text/plain": [
       "        Name AGE SEX\n",
       "0       Yash  18   m\n",
       "1      rohit  18   m\n",
       "2      vijay  18  fm\n",
       "0     dINKAR  18   M\n",
       "1  PREYANSHU  19   F"
      ]
     },
     "execution_count": 71,
     "metadata": {},
     "output_type": "execute_result"
    }
   ],
   "source": [
    "DF_FINAL.head()"
   ]
  },
  {
   "cell_type": "code",
   "execution_count": 72,
   "id": "767a5dc7",
   "metadata": {},
   "outputs": [],
   "source": [
    "#PRINT BOTTOM 5 ROWS"
   ]
  },
  {
   "cell_type": "code",
   "execution_count": 73,
   "id": "a1b98363",
   "metadata": {},
   "outputs": [
    {
     "data": {
      "text/html": [
       "<div>\n",
       "<style scoped>\n",
       "    .dataframe tbody tr th:only-of-type {\n",
       "        vertical-align: middle;\n",
       "    }\n",
       "\n",
       "    .dataframe tbody tr th {\n",
       "        vertical-align: top;\n",
       "    }\n",
       "\n",
       "    .dataframe thead th {\n",
       "        text-align: right;\n",
       "    }\n",
       "</style>\n",
       "<table border=\"1\" class=\"dataframe\">\n",
       "  <thead>\n",
       "    <tr style=\"text-align: right;\">\n",
       "      <th></th>\n",
       "      <th>Name</th>\n",
       "      <th>AGE</th>\n",
       "      <th>SEX</th>\n",
       "    </tr>\n",
       "  </thead>\n",
       "  <tbody>\n",
       "    <tr>\n",
       "      <th>0</th>\n",
       "      <td>Yash</td>\n",
       "      <td>18</td>\n",
       "      <td>m</td>\n",
       "    </tr>\n",
       "    <tr>\n",
       "      <th>1</th>\n",
       "      <td>rohit</td>\n",
       "      <td>18</td>\n",
       "      <td>m</td>\n",
       "    </tr>\n",
       "    <tr>\n",
       "      <th>2</th>\n",
       "      <td>vijay</td>\n",
       "      <td>18</td>\n",
       "      <td>fm</td>\n",
       "    </tr>\n",
       "    <tr>\n",
       "      <th>0</th>\n",
       "      <td>dINKAR</td>\n",
       "      <td>18</td>\n",
       "      <td>M</td>\n",
       "    </tr>\n",
       "    <tr>\n",
       "      <th>1</th>\n",
       "      <td>PREYANSHU</td>\n",
       "      <td>19</td>\n",
       "      <td>F</td>\n",
       "    </tr>\n",
       "  </tbody>\n",
       "</table>\n",
       "</div>"
      ],
      "text/plain": [
       "        Name AGE SEX\n",
       "0       Yash  18   m\n",
       "1      rohit  18   m\n",
       "2      vijay  18  fm\n",
       "0     dINKAR  18   M\n",
       "1  PREYANSHU  19   F"
      ]
     },
     "execution_count": 73,
     "metadata": {},
     "output_type": "execute_result"
    }
   ],
   "source": [
    "DF_FINAL.tail()"
   ]
  },
  {
   "cell_type": "code",
   "execution_count": 74,
   "id": "b8b7830d",
   "metadata": {},
   "outputs": [],
   "source": [
    "#index numbers"
   ]
  },
  {
   "cell_type": "code",
   "execution_count": 75,
   "id": "43c85c72",
   "metadata": {},
   "outputs": [
    {
     "data": {
      "text/plain": [
       "Index([0, 1, 2, 0, 1], dtype='int64')"
      ]
     },
     "execution_count": 75,
     "metadata": {},
     "output_type": "execute_result"
    }
   ],
   "source": [
    "DF_FINAL.index"
   ]
  },
  {
   "cell_type": "code",
   "execution_count": 76,
   "id": "66fe71d1",
   "metadata": {},
   "outputs": [],
   "source": [
    "#column headers"
   ]
  },
  {
   "cell_type": "code",
   "execution_count": 77,
   "id": "bc17a853",
   "metadata": {},
   "outputs": [
    {
     "data": {
      "text/plain": [
       "Index(['Name', 'AGE', 'SEX'], dtype='object')"
      ]
     },
     "execution_count": 77,
     "metadata": {},
     "output_type": "execute_result"
    }
   ],
   "source": [
    "DF_FINAL.columns"
   ]
  },
  {
   "cell_type": "code",
   "execution_count": 78,
   "id": "1f38cbc9",
   "metadata": {},
   "outputs": [],
   "source": [
    "#Data type of each columns"
   ]
  },
  {
   "cell_type": "code",
   "execution_count": 79,
   "id": "d02c0b46",
   "metadata": {},
   "outputs": [
    {
     "data": {
      "text/plain": [
       "Name    object\n",
       "AGE     object\n",
       "SEX     object\n",
       "dtype: object"
      ]
     },
     "execution_count": 79,
     "metadata": {},
     "output_type": "execute_result"
    }
   ],
   "source": [
    "DF_FINAL.dtypes"
   ]
  },
  {
   "cell_type": "code",
   "execution_count": 80,
   "id": "7d425dcd",
   "metadata": {},
   "outputs": [],
   "source": [
    "#shape"
   ]
  },
  {
   "cell_type": "code",
   "execution_count": 81,
   "id": "b9054ef8",
   "metadata": {},
   "outputs": [
    {
     "data": {
      "text/plain": [
       "(5, 3)"
      ]
     },
     "execution_count": 81,
     "metadata": {},
     "output_type": "execute_result"
    }
   ],
   "source": [
    "DF_FINAL.shape\n"
   ]
  },
  {
   "cell_type": "code",
   "execution_count": 82,
   "id": "2992e943",
   "metadata": {},
   "outputs": [],
   "source": [
    "#values"
   ]
  },
  {
   "cell_type": "code",
   "execution_count": 83,
   "id": "907808f6",
   "metadata": {},
   "outputs": [
    {
     "data": {
      "text/plain": [
       "array([['Yash', '18', 'm'],\n",
       "       ['rohit', '18', 'm'],\n",
       "       ['vijay', '18', 'fm'],\n",
       "       ['dINKAR', 18, 'M'],\n",
       "       ['PREYANSHU', 19, 'F']], dtype=object)"
      ]
     },
     "execution_count": 83,
     "metadata": {},
     "output_type": "execute_result"
    }
   ],
   "source": [
    "DF_FINAL.values"
   ]
  },
  {
   "cell_type": "code",
   "execution_count": 84,
   "id": "7018ea19",
   "metadata": {},
   "outputs": [],
   "source": [
    "#get information About DF"
   ]
  },
  {
   "cell_type": "code",
   "execution_count": 85,
   "id": "9e7ea610",
   "metadata": {},
   "outputs": [
    {
     "data": {
      "text/plain": [
       "<bound method DataFrame.info of         Name AGE SEX\n",
       "0       Yash  18   m\n",
       "1      rohit  18   m\n",
       "2      vijay  18  fm\n",
       "0     dINKAR  18   M\n",
       "1  PREYANSHU  19   F>"
      ]
     },
     "execution_count": 85,
     "metadata": {},
     "output_type": "execute_result"
    }
   ],
   "source": [
    "DF_FINAL.info"
   ]
  },
  {
   "cell_type": "code",
   "execution_count": 86,
   "id": "fe5e7e62",
   "metadata": {},
   "outputs": [],
   "source": [
    "#column selection"
   ]
  },
  {
   "cell_type": "code",
   "execution_count": 87,
   "id": "2a287ed8",
   "metadata": {},
   "outputs": [
    {
     "data": {
      "text/plain": [
       "0         Yash\n",
       "1        rohit\n",
       "2        vijay\n",
       "0       dINKAR\n",
       "1    PREYANSHU\n",
       "Name: Name, dtype: object"
      ]
     },
     "execution_count": 87,
     "metadata": {},
     "output_type": "execute_result"
    }
   ],
   "source": [
    "DF_FINAL['Name']"
   ]
  },
  {
   "cell_type": "code",
   "execution_count": 88,
   "id": "c16f3823",
   "metadata": {},
   "outputs": [
    {
     "data": {
      "text/plain": [
       "pandas.core.series.Series"
      ]
     },
     "execution_count": 88,
     "metadata": {},
     "output_type": "execute_result"
    }
   ],
   "source": [
    "type(DF_FINAL['Name'])"
   ]
  },
  {
   "cell_type": "code",
   "execution_count": 89,
   "id": "d47e0176",
   "metadata": {},
   "outputs": [
    {
     "data": {
      "text/html": [
       "<div>\n",
       "<style scoped>\n",
       "    .dataframe tbody tr th:only-of-type {\n",
       "        vertical-align: middle;\n",
       "    }\n",
       "\n",
       "    .dataframe tbody tr th {\n",
       "        vertical-align: top;\n",
       "    }\n",
       "\n",
       "    .dataframe thead th {\n",
       "        text-align: right;\n",
       "    }\n",
       "</style>\n",
       "<table border=\"1\" class=\"dataframe\">\n",
       "  <thead>\n",
       "    <tr style=\"text-align: right;\">\n",
       "      <th></th>\n",
       "      <th>Name</th>\n",
       "      <th>AGE</th>\n",
       "    </tr>\n",
       "  </thead>\n",
       "  <tbody>\n",
       "    <tr>\n",
       "      <th>0</th>\n",
       "      <td>Yash</td>\n",
       "      <td>18</td>\n",
       "    </tr>\n",
       "    <tr>\n",
       "      <th>1</th>\n",
       "      <td>rohit</td>\n",
       "      <td>18</td>\n",
       "    </tr>\n",
       "    <tr>\n",
       "      <th>2</th>\n",
       "      <td>vijay</td>\n",
       "      <td>18</td>\n",
       "    </tr>\n",
       "    <tr>\n",
       "      <th>0</th>\n",
       "      <td>dINKAR</td>\n",
       "      <td>18</td>\n",
       "    </tr>\n",
       "    <tr>\n",
       "      <th>1</th>\n",
       "      <td>PREYANSHU</td>\n",
       "      <td>19</td>\n",
       "    </tr>\n",
       "  </tbody>\n",
       "</table>\n",
       "</div>"
      ],
      "text/plain": [
       "        Name AGE\n",
       "0       Yash  18\n",
       "1      rohit  18\n",
       "2      vijay  18\n",
       "0     dINKAR  18\n",
       "1  PREYANSHU  19"
      ]
     },
     "execution_count": 89,
     "metadata": {},
     "output_type": "execute_result"
    }
   ],
   "source": [
    "DF_FINAL[['Name','AGE']]"
   ]
  },
  {
   "cell_type": "code",
   "execution_count": 90,
   "id": "0166b07f",
   "metadata": {},
   "outputs": [],
   "source": [
    "df = DF_FINAL.copy()"
   ]
  },
  {
   "cell_type": "code",
   "execution_count": 91,
   "id": "1d6371b6",
   "metadata": {},
   "outputs": [],
   "source": [
    "#ROW SELECTION BY FUNCTIONS :- iloc , loc, ix , loc and ix are not highly used"
   ]
  },
  {
   "cell_type": "code",
   "execution_count": 92,
   "id": "9c728933",
   "metadata": {},
   "outputs": [],
   "source": [
    "#1st row print"
   ]
  },
  {
   "cell_type": "code",
   "execution_count": 93,
   "id": "6e480ed8",
   "metadata": {},
   "outputs": [
    {
     "data": {
      "text/plain": [
       "Name    Yash\n",
       "AGE       18\n",
       "SEX        m\n",
       "Name: 0, dtype: object"
      ]
     },
     "execution_count": 93,
     "metadata": {},
     "output_type": "execute_result"
    }
   ],
   "source": [
    "df.iloc[0]"
   ]
  },
  {
   "cell_type": "code",
   "execution_count": 94,
   "id": "66f82498",
   "metadata": {},
   "outputs": [],
   "source": [
    "#1st index to 3rd index exluiding 3rd row "
   ]
  },
  {
   "cell_type": "code",
   "execution_count": 95,
   "id": "ca8fd767",
   "metadata": {},
   "outputs": [
    {
     "data": {
      "text/html": [
       "<div>\n",
       "<style scoped>\n",
       "    .dataframe tbody tr th:only-of-type {\n",
       "        vertical-align: middle;\n",
       "    }\n",
       "\n",
       "    .dataframe tbody tr th {\n",
       "        vertical-align: top;\n",
       "    }\n",
       "\n",
       "    .dataframe thead th {\n",
       "        text-align: right;\n",
       "    }\n",
       "</style>\n",
       "<table border=\"1\" class=\"dataframe\">\n",
       "  <thead>\n",
       "    <tr style=\"text-align: right;\">\n",
       "      <th></th>\n",
       "      <th>Name</th>\n",
       "      <th>AGE</th>\n",
       "      <th>SEX</th>\n",
       "    </tr>\n",
       "  </thead>\n",
       "  <tbody>\n",
       "    <tr>\n",
       "      <th>0</th>\n",
       "      <td>Yash</td>\n",
       "      <td>18</td>\n",
       "      <td>m</td>\n",
       "    </tr>\n",
       "    <tr>\n",
       "      <th>1</th>\n",
       "      <td>rohit</td>\n",
       "      <td>18</td>\n",
       "      <td>m</td>\n",
       "    </tr>\n",
       "    <tr>\n",
       "      <th>2</th>\n",
       "      <td>vijay</td>\n",
       "      <td>18</td>\n",
       "      <td>fm</td>\n",
       "    </tr>\n",
       "  </tbody>\n",
       "</table>\n",
       "</div>"
      ],
      "text/plain": [
       "    Name AGE SEX\n",
       "0   Yash  18   m\n",
       "1  rohit  18   m\n",
       "2  vijay  18  fm"
      ]
     },
     "execution_count": 95,
     "metadata": {},
     "output_type": "execute_result"
    }
   ],
   "source": [
    "df.iloc[0:3]"
   ]
  },
  {
   "cell_type": "code",
   "execution_count": 96,
   "id": "9b8a6694",
   "metadata": {},
   "outputs": [],
   "source": [
    "#1st row 1st element"
   ]
  },
  {
   "cell_type": "code",
   "execution_count": 97,
   "id": "ddf5f19b",
   "metadata": {},
   "outputs": [
    {
     "data": {
      "text/plain": [
       "'Yash'"
      ]
     },
     "execution_count": 97,
     "metadata": {},
     "output_type": "execute_result"
    }
   ],
   "source": [
    "df.iloc[0,0]"
   ]
  },
  {
   "cell_type": "code",
   "execution_count": 98,
   "id": "d3ee463a",
   "metadata": {},
   "outputs": [],
   "source": [
    "#updating element"
   ]
  },
  {
   "cell_type": "code",
   "execution_count": 99,
   "id": "9bc8af2b",
   "metadata": {},
   "outputs": [],
   "source": [
    "df.iloc[0,1]=30"
   ]
  },
  {
   "cell_type": "code",
   "execution_count": 100,
   "id": "e62780fb",
   "metadata": {},
   "outputs": [
    {
     "data": {
      "text/html": [
       "<div>\n",
       "<style scoped>\n",
       "    .dataframe tbody tr th:only-of-type {\n",
       "        vertical-align: middle;\n",
       "    }\n",
       "\n",
       "    .dataframe tbody tr th {\n",
       "        vertical-align: top;\n",
       "    }\n",
       "\n",
       "    .dataframe thead th {\n",
       "        text-align: right;\n",
       "    }\n",
       "</style>\n",
       "<table border=\"1\" class=\"dataframe\">\n",
       "  <thead>\n",
       "    <tr style=\"text-align: right;\">\n",
       "      <th></th>\n",
       "      <th>Name</th>\n",
       "      <th>AGE</th>\n",
       "      <th>SEX</th>\n",
       "    </tr>\n",
       "  </thead>\n",
       "  <tbody>\n",
       "    <tr>\n",
       "      <th>0</th>\n",
       "      <td>Yash</td>\n",
       "      <td>30</td>\n",
       "      <td>m</td>\n",
       "    </tr>\n",
       "    <tr>\n",
       "      <th>1</th>\n",
       "      <td>rohit</td>\n",
       "      <td>18</td>\n",
       "      <td>m</td>\n",
       "    </tr>\n",
       "    <tr>\n",
       "      <th>2</th>\n",
       "      <td>vijay</td>\n",
       "      <td>18</td>\n",
       "      <td>fm</td>\n",
       "    </tr>\n",
       "    <tr>\n",
       "      <th>0</th>\n",
       "      <td>dINKAR</td>\n",
       "      <td>18</td>\n",
       "      <td>M</td>\n",
       "    </tr>\n",
       "    <tr>\n",
       "      <th>1</th>\n",
       "      <td>PREYANSHU</td>\n",
       "      <td>19</td>\n",
       "      <td>F</td>\n",
       "    </tr>\n",
       "  </tbody>\n",
       "</table>\n",
       "</div>"
      ],
      "text/plain": [
       "        Name AGE SEX\n",
       "0       Yash  30   m\n",
       "1      rohit  18   m\n",
       "2      vijay  18  fm\n",
       "0     dINKAR  18   M\n",
       "1  PREYANSHU  19   F"
      ]
     },
     "execution_count": 100,
     "metadata": {},
     "output_type": "execute_result"
    }
   ],
   "source": [
    "df"
   ]
  },
  {
   "cell_type": "code",
   "execution_count": 101,
   "id": "da01798c",
   "metadata": {},
   "outputs": [],
   "source": [
    "#Row selection with certain conditions"
   ]
  },
  {
   "cell_type": "code",
   "execution_count": 102,
   "id": "c0011d40",
   "metadata": {},
   "outputs": [],
   "source": [
    "#DF_FINAL[DF_FINAL.AGE<30]"
   ]
  },
  {
   "cell_type": "code",
   "execution_count": 103,
   "id": "389ec41c",
   "metadata": {},
   "outputs": [],
   "source": [
    "#young = DF_FINAL.AGE<30"
   ]
  },
  {
   "cell_type": "code",
   "execution_count": 104,
   "id": "d68ba990",
   "metadata": {},
   "outputs": [
    {
     "data": {
      "text/html": [
       "<div>\n",
       "<style scoped>\n",
       "    .dataframe tbody tr th:only-of-type {\n",
       "        vertical-align: middle;\n",
       "    }\n",
       "\n",
       "    .dataframe tbody tr th {\n",
       "        vertical-align: top;\n",
       "    }\n",
       "\n",
       "    .dataframe thead th {\n",
       "        text-align: right;\n",
       "    }\n",
       "</style>\n",
       "<table border=\"1\" class=\"dataframe\">\n",
       "  <thead>\n",
       "    <tr style=\"text-align: right;\">\n",
       "      <th></th>\n",
       "      <th>Name</th>\n",
       "      <th>AGE</th>\n",
       "      <th>SEX</th>\n",
       "    </tr>\n",
       "  </thead>\n",
       "  <tbody>\n",
       "    <tr>\n",
       "      <th>0</th>\n",
       "      <td>Yash</td>\n",
       "      <td>18</td>\n",
       "      <td>m</td>\n",
       "    </tr>\n",
       "    <tr>\n",
       "      <th>1</th>\n",
       "      <td>rohit</td>\n",
       "      <td>18</td>\n",
       "      <td>m</td>\n",
       "    </tr>\n",
       "    <tr>\n",
       "      <th>2</th>\n",
       "      <td>vijay</td>\n",
       "      <td>18</td>\n",
       "      <td>fm</td>\n",
       "    </tr>\n",
       "    <tr>\n",
       "      <th>0</th>\n",
       "      <td>dINKAR</td>\n",
       "      <td>18</td>\n",
       "      <td>M</td>\n",
       "    </tr>\n",
       "    <tr>\n",
       "      <th>1</th>\n",
       "      <td>PREYANSHU</td>\n",
       "      <td>19</td>\n",
       "      <td>F</td>\n",
       "    </tr>\n",
       "  </tbody>\n",
       "</table>\n",
       "</div>"
      ],
      "text/plain": [
       "        Name AGE SEX\n",
       "0       Yash  18   m\n",
       "1      rohit  18   m\n",
       "2      vijay  18  fm\n",
       "0     dINKAR  18   M\n",
       "1  PREYANSHU  19   F"
      ]
     },
     "execution_count": 104,
     "metadata": {},
     "output_type": "execute_result"
    }
   ],
   "source": [
    "DF_FINAL"
   ]
  },
  {
   "cell_type": "code",
   "execution_count": null,
   "id": "34ea89a8",
   "metadata": {},
   "outputs": [],
   "source": [
    "DF_FINAL[DF_FINAL.AGE<35].SEX   #IT WILL GIVE THE SEX OF THOSE PEOPLE WHOSE AGE IS LESS THAN 35"
   ]
  },
  {
   "cell_type": "code",
   "execution_count": 106,
   "id": "8b308a60",
   "metadata": {},
   "outputs": [],
   "source": [
    "#ADVANCED LOGICAL FILTERING"
   ]
  },
  {
   "cell_type": "code",
   "execution_count": null,
   "id": "4c8bc46d",
   "metadata": {},
   "outputs": [],
   "source": [
    "DF_FINAL[DF_FINAL.AGE<35][['SEX','NAME']]   #IT WILL GIVE THE SEX AND NAME OF THOSE PEOPLE WHOSE AGE IS LESS THAN 35"
   ]
  },
  {
   "cell_type": "code",
   "execution_count": null,
   "id": "61fd5602",
   "metadata": {},
   "outputs": [],
   "source": [
    "DF_FINAL[(DF_FINAL.AGE<35) & (DF_FINAL.SEX == m)]   #IT WILL GIVE THE ROW WHERE AGE IS LESS THAN 35 AND SEX IS EQUAL TO 'm'"
   ]
  },
  {
   "cell_type": "code",
   "execution_count": null,
   "id": "a2dffd0b",
   "metadata": {},
   "outputs": [],
   "source": [
    "DF_FINAL[DF_FINAL.SEX.isin(['M','m'])]   #IT WILL GIVE THE OCCUPATION WHERE SEX IS EQUAL TO 'M' and 'm'"
   ]
  },
  {
   "cell_type": "code",
   "execution_count": 107,
   "id": "d86486d6",
   "metadata": {},
   "outputs": [],
   "source": [
    "#SORTING"
   ]
  },
  {
   "cell_type": "code",
   "execution_count": null,
   "id": "0904ee23",
   "metadata": {},
   "outputs": [],
   "source": [
    "df.sort_values(by = [\"AGE\"]) #IT WILL SORT THE DATAFRAME IN ASCENDING ORDER BY AGE"
   ]
  },
  {
   "cell_type": "code",
   "execution_count": null,
   "id": "7b872bce",
   "metadata": {},
   "outputs": [],
   "source": [
    "df.sort_values(by = [\"AGE\"],ascending = False) #IT WILL SORT THE DATAFRAME IN DESCENDING ORDER BY AGE"
   ]
  },
  {
   "cell_type": "code",
   "execution_count": 108,
   "id": "572c9fdc",
   "metadata": {},
   "outputs": [],
   "source": [
    "#Sort by multiple rows and columns"
   ]
  },
  {
   "cell_type": "code",
   "execution_count": null,
   "id": "f94e0591",
   "metadata": {},
   "outputs": [],
   "source": [
    "df.sort_values(by = [\"AGE\",\"SEX\"]) #IT WILL SORT THE DATAFRAME IN ASCENDING ORDER BY AGE AND SEX"
   ]
  },
  {
   "cell_type": "code",
   "execution_count": 109,
   "id": "b247b012",
   "metadata": {},
   "outputs": [],
   "source": [
    "#MODIFY DATAFRAMES"
   ]
  },
  {
   "cell_type": "code",
   "execution_count": null,
   "id": "e75ba589",
   "metadata": {},
   "outputs": [],
   "source": [
    "df.sort_values(by = [\"AGE\",\"SEX\"] , inplace =True)"
   ]
  },
  {
   "cell_type": "code",
   "execution_count": 110,
   "id": "87a03ac4",
   "metadata": {},
   "outputs": [],
   "source": [
    "#DESCRYPTIVE STATISTICS"
   ]
  },
  {
   "cell_type": "code",
   "execution_count": 111,
   "id": "1ded1b7c",
   "metadata": {},
   "outputs": [],
   "source": [
    "#describe function is used for numerical statistics "
   ]
  },
  {
   "cell_type": "code",
   "execution_count": 112,
   "id": "59839505",
   "metadata": {},
   "outputs": [
    {
     "name": "stdout",
     "output_type": "stream",
     "text": [
      "        Name AGE SEX\n",
      "0       Yash  30   m\n",
      "1      rohit  18   m\n",
      "2      vijay  18  fm\n",
      "0     dINKAR  18   M\n",
      "1  PREYANSHU  19   F\n"
     ]
    }
   ],
   "source": [
    "print(df)"
   ]
  },
  {
   "cell_type": "code",
   "execution_count": null,
   "id": "07b121cb",
   "metadata": {},
   "outputs": [],
   "source": [
    "#df.describe() THIS WILL GIVE THE STATISTICS OF NUMERICAL COLUMNS"
   ]
  },
  {
   "cell_type": "code",
   "execution_count": null,
   "id": "f6d3c72f",
   "metadata": {},
   "outputs": [],
   "source": [
    "#df.describe(include = 'all') THIS WILL GIVE THE STATISTICS OF ALL COLUMNS"
   ]
  },
  {
   "cell_type": "code",
   "execution_count": null,
   "id": "0ae1774b",
   "metadata": {},
   "outputs": [],
   "source": [
    "#df.describe(include = 'objects') THIS WILL GIVE THE STATISTICS OF CATEGORICAL COLUMNS"
   ]
  },
  {
   "cell_type": "code",
   "execution_count": null,
   "id": "2f2ffa82",
   "metadata": {},
   "outputs": [],
   "source": [
    "#df.groupby(\"SEX\").mean()  THIS WILL GIVE THE MEAN OF AGES FOR THE VALUES EQUAL TO OF SEX.....THIS IS WE CALLED AS STATISTICS BY GROUP"
   ]
  },
  {
   "cell_type": "code",
   "execution_count": 125,
   "id": "29ce02fd",
   "metadata": {},
   "outputs": [],
   "source": [
    "#DEALING WITH DUPLICATE VALUES"
   ]
  },
  {
   "cell_type": "code",
   "execution_count": 129,
   "id": "69aab9c9",
   "metadata": {},
   "outputs": [
    {
     "data": {
      "text/html": [
       "<div>\n",
       "<style scoped>\n",
       "    .dataframe tbody tr th:only-of-type {\n",
       "        vertical-align: middle;\n",
       "    }\n",
       "\n",
       "    .dataframe tbody tr th {\n",
       "        vertical-align: top;\n",
       "    }\n",
       "\n",
       "    .dataframe thead th {\n",
       "        text-align: right;\n",
       "    }\n",
       "</style>\n",
       "<table border=\"1\" class=\"dataframe\">\n",
       "  <thead>\n",
       "    <tr style=\"text-align: right;\">\n",
       "      <th></th>\n",
       "      <th>Name</th>\n",
       "      <th>AGE</th>\n",
       "      <th>SEX</th>\n",
       "    </tr>\n",
       "  </thead>\n",
       "  <tbody>\n",
       "    <tr>\n",
       "      <th>0</th>\n",
       "      <td>Yash</td>\n",
       "      <td>18</td>\n",
       "      <td>m</td>\n",
       "    </tr>\n",
       "    <tr>\n",
       "      <th>1</th>\n",
       "      <td>rohit</td>\n",
       "      <td>18</td>\n",
       "      <td>m</td>\n",
       "    </tr>\n",
       "    <tr>\n",
       "      <th>2</th>\n",
       "      <td>vijay</td>\n",
       "      <td>18</td>\n",
       "      <td>fm</td>\n",
       "    </tr>\n",
       "    <tr>\n",
       "      <th>0</th>\n",
       "      <td>dINKAR</td>\n",
       "      <td>18</td>\n",
       "      <td>M</td>\n",
       "    </tr>\n",
       "    <tr>\n",
       "      <th>1</th>\n",
       "      <td>PREYANSHU</td>\n",
       "      <td>19</td>\n",
       "      <td>F</td>\n",
       "    </tr>\n",
       "  </tbody>\n",
       "</table>\n",
       "</div>"
      ],
      "text/plain": [
       "        Name AGE SEX\n",
       "0       Yash  18   m\n",
       "1      rohit  18   m\n",
       "2      vijay  18  fm\n",
       "0     dINKAR  18   M\n",
       "1  PREYANSHU  19   F"
      ]
     },
     "execution_count": 129,
     "metadata": {},
     "output_type": "execute_result"
    }
   ],
   "source": [
    "DF_FINAL"
   ]
  },
  {
   "cell_type": "code",
   "execution_count": 130,
   "id": "30d80407",
   "metadata": {},
   "outputs": [
    {
     "data": {
      "text/html": [
       "<div>\n",
       "<style scoped>\n",
       "    .dataframe tbody tr th:only-of-type {\n",
       "        vertical-align: middle;\n",
       "    }\n",
       "\n",
       "    .dataframe tbody tr th {\n",
       "        vertical-align: top;\n",
       "    }\n",
       "\n",
       "    .dataframe thead th {\n",
       "        text-align: right;\n",
       "    }\n",
       "</style>\n",
       "<table border=\"1\" class=\"dataframe\">\n",
       "  <thead>\n",
       "    <tr style=\"text-align: right;\">\n",
       "      <th></th>\n",
       "      <th>Name</th>\n",
       "      <th>AGE</th>\n",
       "      <th>SEX</th>\n",
       "    </tr>\n",
       "  </thead>\n",
       "  <tbody>\n",
       "    <tr>\n",
       "      <th>0</th>\n",
       "      <td>dINKAR</td>\n",
       "      <td>18</td>\n",
       "      <td>M</td>\n",
       "    </tr>\n",
       "    <tr>\n",
       "      <th>1</th>\n",
       "      <td>PREYANSHU</td>\n",
       "      <td>19</td>\n",
       "      <td>F</td>\n",
       "    </tr>\n",
       "  </tbody>\n",
       "</table>\n",
       "</div>"
      ],
      "text/plain": [
       "        Name  AGE SEX\n",
       "0     dINKAR   18   M\n",
       "1  PREYANSHU   19   F"
      ]
     },
     "execution_count": 130,
     "metadata": {},
     "output_type": "execute_result"
    }
   ],
   "source": [
    "DF2"
   ]
  },
  {
   "cell_type": "code",
   "execution_count": 132,
   "id": "8c94cc20",
   "metadata": {},
   "outputs": [],
   "source": [
    "DFF = pd.concat((DF_FINAL,DF2))"
   ]
  },
  {
   "cell_type": "code",
   "execution_count": 133,
   "id": "7a3af0f6",
   "metadata": {},
   "outputs": [
    {
     "data": {
      "text/html": [
       "<div>\n",
       "<style scoped>\n",
       "    .dataframe tbody tr th:only-of-type {\n",
       "        vertical-align: middle;\n",
       "    }\n",
       "\n",
       "    .dataframe tbody tr th {\n",
       "        vertical-align: top;\n",
       "    }\n",
       "\n",
       "    .dataframe thead th {\n",
       "        text-align: right;\n",
       "    }\n",
       "</style>\n",
       "<table border=\"1\" class=\"dataframe\">\n",
       "  <thead>\n",
       "    <tr style=\"text-align: right;\">\n",
       "      <th></th>\n",
       "      <th>Name</th>\n",
       "      <th>AGE</th>\n",
       "      <th>SEX</th>\n",
       "    </tr>\n",
       "  </thead>\n",
       "  <tbody>\n",
       "    <tr>\n",
       "      <th>0</th>\n",
       "      <td>Yash</td>\n",
       "      <td>18</td>\n",
       "      <td>m</td>\n",
       "    </tr>\n",
       "    <tr>\n",
       "      <th>1</th>\n",
       "      <td>rohit</td>\n",
       "      <td>18</td>\n",
       "      <td>m</td>\n",
       "    </tr>\n",
       "    <tr>\n",
       "      <th>2</th>\n",
       "      <td>vijay</td>\n",
       "      <td>18</td>\n",
       "      <td>fm</td>\n",
       "    </tr>\n",
       "    <tr>\n",
       "      <th>0</th>\n",
       "      <td>dINKAR</td>\n",
       "      <td>18</td>\n",
       "      <td>M</td>\n",
       "    </tr>\n",
       "    <tr>\n",
       "      <th>1</th>\n",
       "      <td>PREYANSHU</td>\n",
       "      <td>19</td>\n",
       "      <td>F</td>\n",
       "    </tr>\n",
       "    <tr>\n",
       "      <th>0</th>\n",
       "      <td>dINKAR</td>\n",
       "      <td>18</td>\n",
       "      <td>M</td>\n",
       "    </tr>\n",
       "    <tr>\n",
       "      <th>1</th>\n",
       "      <td>PREYANSHU</td>\n",
       "      <td>19</td>\n",
       "      <td>F</td>\n",
       "    </tr>\n",
       "  </tbody>\n",
       "</table>\n",
       "</div>"
      ],
      "text/plain": [
       "        Name AGE SEX\n",
       "0       Yash  18   m\n",
       "1      rohit  18   m\n",
       "2      vijay  18  fm\n",
       "0     dINKAR  18   M\n",
       "1  PREYANSHU  19   F\n",
       "0     dINKAR  18   M\n",
       "1  PREYANSHU  19   F"
      ]
     },
     "execution_count": 133,
     "metadata": {},
     "output_type": "execute_result"
    }
   ],
   "source": [
    "DFF"
   ]
  },
  {
   "cell_type": "code",
   "execution_count": null,
   "id": "6e626aa4",
   "metadata": {},
   "outputs": [],
   "source": [
    "#CHECKING DUPLICATES BY BOOLEANS"
   ]
  },
  {
   "cell_type": "code",
   "execution_count": 134,
   "id": "4f71424c",
   "metadata": {},
   "outputs": [
    {
     "data": {
      "text/plain": [
       "0    False\n",
       "1    False\n",
       "2    False\n",
       "0    False\n",
       "1    False\n",
       "0     True\n",
       "1     True\n",
       "dtype: bool"
      ]
     },
     "execution_count": 134,
     "metadata": {},
     "output_type": "execute_result"
    }
   ],
   "source": [
    "DFF.duplicated()"
   ]
  },
  {
   "cell_type": "code",
   "execution_count": null,
   "id": "e6b7356b",
   "metadata": {},
   "outputs": [],
   "source": [
    "#Count number of Duplicates"
   ]
  },
  {
   "cell_type": "code",
   "execution_count": 135,
   "id": "f0fcfa77",
   "metadata": {},
   "outputs": [
    {
     "data": {
      "text/plain": [
       "2"
      ]
     },
     "execution_count": 135,
     "metadata": {},
     "output_type": "execute_result"
    }
   ],
   "source": [
    "DFF.duplicated().sum()"
   ]
  },
  {
   "cell_type": "code",
   "execution_count": null,
   "id": "e98e0fee",
   "metadata": {},
   "outputs": [],
   "source": [
    "#Show Duplicates"
   ]
  },
  {
   "cell_type": "code",
   "execution_count": 136,
   "id": "6fb218d4",
   "metadata": {},
   "outputs": [
    {
     "data": {
      "text/html": [
       "<div>\n",
       "<style scoped>\n",
       "    .dataframe tbody tr th:only-of-type {\n",
       "        vertical-align: middle;\n",
       "    }\n",
       "\n",
       "    .dataframe tbody tr th {\n",
       "        vertical-align: top;\n",
       "    }\n",
       "\n",
       "    .dataframe thead th {\n",
       "        text-align: right;\n",
       "    }\n",
       "</style>\n",
       "<table border=\"1\" class=\"dataframe\">\n",
       "  <thead>\n",
       "    <tr style=\"text-align: right;\">\n",
       "      <th></th>\n",
       "      <th>Name</th>\n",
       "      <th>AGE</th>\n",
       "      <th>SEX</th>\n",
       "    </tr>\n",
       "  </thead>\n",
       "  <tbody>\n",
       "    <tr>\n",
       "      <th>0</th>\n",
       "      <td>dINKAR</td>\n",
       "      <td>18</td>\n",
       "      <td>M</td>\n",
       "    </tr>\n",
       "    <tr>\n",
       "      <th>1</th>\n",
       "      <td>PREYANSHU</td>\n",
       "      <td>19</td>\n",
       "      <td>F</td>\n",
       "    </tr>\n",
       "  </tbody>\n",
       "</table>\n",
       "</div>"
      ],
      "text/plain": [
       "        Name AGE SEX\n",
       "0     dINKAR  18   M\n",
       "1  PREYANSHU  19   F"
      ]
     },
     "execution_count": 136,
     "metadata": {},
     "output_type": "execute_result"
    }
   ],
   "source": [
    "DFF[DFF.duplicated()]"
   ]
  },
  {
   "cell_type": "code",
   "execution_count": 137,
   "id": "25c1d6b2",
   "metadata": {},
   "outputs": [],
   "source": [
    "#CHECK COLUMN FOR DUPLICATES"
   ]
  },
  {
   "cell_type": "code",
   "execution_count": 138,
   "id": "688d83dc",
   "metadata": {},
   "outputs": [
    {
     "data": {
      "text/plain": [
       "0    False\n",
       "1     True\n",
       "2     True\n",
       "0    False\n",
       "1    False\n",
       "0     True\n",
       "1     True\n",
       "Name: AGE, dtype: bool"
      ]
     },
     "execution_count": 138,
     "metadata": {},
     "output_type": "execute_result"
    }
   ],
   "source": [
    "DFF.AGE.duplicated()"
   ]
  },
  {
   "cell_type": "code",
   "execution_count": null,
   "id": "70173473",
   "metadata": {},
   "outputs": [],
   "source": [
    "#DROPPING DUPLICATE VALUES"
   ]
  },
  {
   "cell_type": "code",
   "execution_count": 139,
   "id": "32a601c1",
   "metadata": {},
   "outputs": [],
   "source": [
    "DFF_D = DFF.drop_duplicates()"
   ]
  },
  {
   "cell_type": "code",
   "execution_count": 140,
   "id": "5e782072",
   "metadata": {},
   "outputs": [
    {
     "data": {
      "text/html": [
       "<div>\n",
       "<style scoped>\n",
       "    .dataframe tbody tr th:only-of-type {\n",
       "        vertical-align: middle;\n",
       "    }\n",
       "\n",
       "    .dataframe tbody tr th {\n",
       "        vertical-align: top;\n",
       "    }\n",
       "\n",
       "    .dataframe thead th {\n",
       "        text-align: right;\n",
       "    }\n",
       "</style>\n",
       "<table border=\"1\" class=\"dataframe\">\n",
       "  <thead>\n",
       "    <tr style=\"text-align: right;\">\n",
       "      <th></th>\n",
       "      <th>Name</th>\n",
       "      <th>AGE</th>\n",
       "      <th>SEX</th>\n",
       "    </tr>\n",
       "  </thead>\n",
       "  <tbody>\n",
       "    <tr>\n",
       "      <th>0</th>\n",
       "      <td>Yash</td>\n",
       "      <td>18</td>\n",
       "      <td>m</td>\n",
       "    </tr>\n",
       "    <tr>\n",
       "      <th>1</th>\n",
       "      <td>rohit</td>\n",
       "      <td>18</td>\n",
       "      <td>m</td>\n",
       "    </tr>\n",
       "    <tr>\n",
       "      <th>2</th>\n",
       "      <td>vijay</td>\n",
       "      <td>18</td>\n",
       "      <td>fm</td>\n",
       "    </tr>\n",
       "    <tr>\n",
       "      <th>0</th>\n",
       "      <td>dINKAR</td>\n",
       "      <td>18</td>\n",
       "      <td>M</td>\n",
       "    </tr>\n",
       "    <tr>\n",
       "      <th>1</th>\n",
       "      <td>PREYANSHU</td>\n",
       "      <td>19</td>\n",
       "      <td>F</td>\n",
       "    </tr>\n",
       "  </tbody>\n",
       "</table>\n",
       "</div>"
      ],
      "text/plain": [
       "        Name AGE SEX\n",
       "0       Yash  18   m\n",
       "1      rohit  18   m\n",
       "2      vijay  18  fm\n",
       "0     dINKAR  18   M\n",
       "1  PREYANSHU  19   F"
      ]
     },
     "execution_count": 140,
     "metadata": {},
     "output_type": "execute_result"
    }
   ],
   "source": [
    "DFF_D"
   ]
  },
  {
   "cell_type": "code",
   "execution_count": 141,
   "id": "cb75240a",
   "metadata": {},
   "outputs": [
    {
     "data": {
      "text/html": [
       "<div>\n",
       "<style scoped>\n",
       "    .dataframe tbody tr th:only-of-type {\n",
       "        vertical-align: middle;\n",
       "    }\n",
       "\n",
       "    .dataframe tbody tr th {\n",
       "        vertical-align: top;\n",
       "    }\n",
       "\n",
       "    .dataframe thead th {\n",
       "        text-align: right;\n",
       "    }\n",
       "</style>\n",
       "<table border=\"1\" class=\"dataframe\">\n",
       "  <thead>\n",
       "    <tr style=\"text-align: right;\">\n",
       "      <th></th>\n",
       "      <th>Name</th>\n",
       "      <th>AGE</th>\n",
       "      <th>SEX</th>\n",
       "    </tr>\n",
       "  </thead>\n",
       "  <tbody>\n",
       "    <tr>\n",
       "      <th>0</th>\n",
       "      <td>Yash</td>\n",
       "      <td>18</td>\n",
       "      <td>m</td>\n",
       "    </tr>\n",
       "    <tr>\n",
       "      <th>1</th>\n",
       "      <td>rohit</td>\n",
       "      <td>18</td>\n",
       "      <td>m</td>\n",
       "    </tr>\n",
       "    <tr>\n",
       "      <th>2</th>\n",
       "      <td>vijay</td>\n",
       "      <td>18</td>\n",
       "      <td>fm</td>\n",
       "    </tr>\n",
       "    <tr>\n",
       "      <th>0</th>\n",
       "      <td>dINKAR</td>\n",
       "      <td>18</td>\n",
       "      <td>M</td>\n",
       "    </tr>\n",
       "    <tr>\n",
       "      <th>1</th>\n",
       "      <td>PREYANSHU</td>\n",
       "      <td>19</td>\n",
       "      <td>F</td>\n",
       "    </tr>\n",
       "    <tr>\n",
       "      <th>0</th>\n",
       "      <td>dINKAR</td>\n",
       "      <td>18</td>\n",
       "      <td>M</td>\n",
       "    </tr>\n",
       "    <tr>\n",
       "      <th>1</th>\n",
       "      <td>PREYANSHU</td>\n",
       "      <td>19</td>\n",
       "      <td>F</td>\n",
       "    </tr>\n",
       "  </tbody>\n",
       "</table>\n",
       "</div>"
      ],
      "text/plain": [
       "        Name AGE SEX\n",
       "0       Yash  18   m\n",
       "1      rohit  18   m\n",
       "2      vijay  18  fm\n",
       "0     dINKAR  18   M\n",
       "1  PREYANSHU  19   F\n",
       "0     dINKAR  18   M\n",
       "1  PREYANSHU  19   F"
      ]
     },
     "execution_count": 141,
     "metadata": {},
     "output_type": "execute_result"
    }
   ],
   "source": [
    "DFF"
   ]
  },
  {
   "cell_type": "code",
   "execution_count": null,
   "id": "dbee6ae2",
   "metadata": {},
   "outputs": [],
   "source": [
    "################################################################################################################################"
   ]
  },
  {
   "cell_type": "code",
   "execution_count": null,
   "id": "09642835",
   "metadata": {},
   "outputs": [],
   "source": [
    "#IMPORTING DATAFRAMES"
   ]
  },
  {
   "cell_type": "code",
   "execution_count": null,
   "id": "76afe263",
   "metadata": {},
   "outputs": [],
   "source": [
    "# income = pd.read_csv('file name')"
   ]
  },
  {
   "cell_type": "code",
   "execution_count": null,
   "id": "5a313081",
   "metadata": {},
   "outputs": [],
   "source": [
    "#changing datatypes"
   ]
  },
  {
   "cell_type": "code",
   "execution_count": null,
   "id": "e3641dbe",
   "metadata": {},
   "outputs": [],
   "source": [
    "#income.Y2015 = income.Y2015.astype(float)"
   ]
  },
  {
   "cell_type": "code",
   "execution_count": null,
   "id": "7d73ba04",
   "metadata": {},
   "outputs": [],
   "source": [
    "#getting no of rows in dataframes"
   ]
  },
  {
   "cell_type": "code",
   "execution_count": null,
   "id": "06eb3014",
   "metadata": {},
   "outputs": [],
   "source": [
    "#income.shape[0]"
   ]
  },
  {
   "cell_type": "code",
   "execution_count": null,
   "id": "b682ad39",
   "metadata": {},
   "outputs": [],
   "source": [
    "#getting no of columns in dataframes"
   ]
  },
  {
   "cell_type": "code",
   "execution_count": null,
   "id": "0cff3f5f",
   "metadata": {},
   "outputs": [],
   "source": [
    "#income.shape[1]"
   ]
  },
  {
   "cell_type": "code",
   "execution_count": null,
   "id": "5290e036",
   "metadata": {},
   "outputs": [],
   "source": [
    "#Extract unique values"
   ]
  },
  {
   "cell_type": "code",
   "execution_count": null,
   "id": "08ac9a51",
   "metadata": {},
   "outputs": [],
   "source": [
    "#income.index.unique()"
   ]
  },
  {
   "cell_type": "code",
   "execution_count": null,
   "id": "fd7ab2a9",
   "metadata": {},
   "outputs": [],
   "source": [
    "#count number of unique values"
   ]
  },
  {
   "cell_type": "code",
   "execution_count": null,
   "id": "aeffbd33",
   "metadata": {},
   "outputs": [],
   "source": [
    "#income.index.nunique()"
   ]
  },
  {
   "cell_type": "code",
   "execution_count": null,
   "id": "fe3e8b75",
   "metadata": {},
   "outputs": [],
   "source": [
    "#Generating crosstabs"
   ]
  },
  {
   "cell_type": "code",
   "execution_count": null,
   "id": "117938c8",
   "metadata": {},
   "outputs": [],
   "source": [
    "#pd.crosstab(income.Index , income.State)-----This will tell one value has occured in which rows"
   ]
  },
  {
   "cell_type": "code",
   "execution_count": null,
   "id": "392eca1a",
   "metadata": {},
   "outputs": [],
   "source": [
    "#Creating Freq Distributions"
   ]
  },
  {
   "cell_type": "code",
   "execution_count": null,
   "id": "35c53b38",
   "metadata": {},
   "outputs": [],
   "source": [
    "#income.Index.value_counts(ascending = True)"
   ]
  },
  {
   "cell_type": "code",
   "execution_count": null,
   "id": "dd0a2d9b",
   "metadata": {},
   "outputs": [],
   "source": [
    "#DRAW SAMPLE OF DATA ----> This will give you random rows"
   ]
  },
  {
   "cell_type": "code",
   "execution_count": null,
   "id": "e5512d4c",
   "metadata": {},
   "outputs": [],
   "source": [
    "#income.sample(n=6) ----> This will give 6 you random rows"
   ]
  },
  {
   "cell_type": "code",
   "execution_count": null,
   "id": "8350e51d",
   "metadata": {},
   "outputs": [],
   "source": [
    "#select few columns"
   ]
  },
  {
   "cell_type": "code",
   "execution_count": null,
   "id": "f198e432",
   "metadata": {},
   "outputs": [],
   "source": [
    "#df = income.loc[:,['INDEX','STATE]']"
   ]
  },
  {
   "cell_type": "code",
   "execution_count": null,
   "id": "d644dc68",
   "metadata": {},
   "outputs": [],
   "source": [
    "#select CONSECUTIVE columns"
   ]
  },
  {
   "cell_type": "code",
   "execution_count": null,
   "id": "ef33dd31",
   "metadata": {},
   "outputs": [],
   "source": [
    "#df = income.loc[:,'INDEX':'STATE']"
   ]
  },
  {
   "cell_type": "code",
   "execution_count": null,
   "id": "01dd8d3e",
   "metadata": {},
   "outputs": [],
   "source": [
    "#df.iloc[:,0:5]"
   ]
  },
  {
   "cell_type": "code",
   "execution_count": null,
   "id": "cd43f92b",
   "metadata": {},
   "outputs": [],
   "source": [
    "#RENAME ALL VARIABLES"
   ]
  },
  {
   "cell_type": "code",
   "execution_count": null,
   "id": "684e4178",
   "metadata": {},
   "outputs": [],
   "source": [
    "#df.columns = ['state', 'name','roll no'] ----> This will be the new column"
   ]
  },
  {
   "cell_type": "code",
   "execution_count": null,
   "id": "06c7503d",
   "metadata": {},
   "outputs": [],
   "source": [
    "#RENAME some VARIABLES"
   ]
  },
  {
   "cell_type": "code",
   "execution_count": null,
   "id": "1a6a8b26",
   "metadata": {},
   "outputs": [],
   "source": [
    "#df.rename(columns ={'state':'rajya'},inplace = True)"
   ]
  },
  {
   "cell_type": "code",
   "execution_count": null,
   "id": "ad42bb2b",
   "metadata": {},
   "outputs": [],
   "source": [
    "#income in which variable contains Y as Year"
   ]
  },
  {
   "cell_type": "code",
   "execution_count": null,
   "id": "3b63abe9",
   "metadata": {
    "collapsed": true
   },
   "outputs": [],
   "source": [
    "#income.columns = income.columns.str.replace('y','year')"
   ]
  },
  {
   "cell_type": "code",
   "execution_count": null,
   "id": "33f5a09d",
   "metadata": {},
   "outputs": [],
   "source": [
    "#Removing Rows and Colums: income.drop(\"Index\",axis=1)"
   ]
  },
  {
   "cell_type": "code",
   "execution_count": null,
   "id": "19381b43",
   "metadata": {},
   "outputs": [],
   "source": [
    "#Drop more variables : income.drop([\"Index\",\"State\"],axis=1)"
   ]
  },
  {
   "cell_type": "code",
   "execution_count": null,
   "id": "c0f47968",
   "metadata": {},
   "outputs": [],
   "source": [
    "#Drop Rows --------->income.drop(0,axis=0)"
   ]
  },
  {
   "cell_type": "code",
   "execution_count": null,
   "id": "02e2bf37",
   "metadata": {},
   "outputs": [],
   "source": [
    "#CHECKING MISSING VALUES ------> crops.isnull()"
   ]
  },
  {
   "cell_type": "code",
   "execution_count": null,
   "id": "06017984",
   "metadata": {},
   "outputs": [],
   "source": [
    "#Count no of missing values ------> crops.isnull().sum()"
   ]
  },
  {
   "cell_type": "code",
   "execution_count": null,
   "id": "b575fa95",
   "metadata": {},
   "outputs": [],
   "source": [
    "#Replacing NaN with any other variable---> crops.cost.fillna(value='unknown',inplace=True)"
   ]
  },
  {
   "cell_type": "code",
   "execution_count": null,
   "id": "79300dbd",
   "metadata": {},
   "outputs": [],
   "source": []
  },
  {
   "cell_type": "code",
   "execution_count": null,
   "id": "891e24c4",
   "metadata": {},
   "outputs": [],
   "source": []
  },
  {
   "cell_type": "code",
   "execution_count": null,
   "id": "3be4821f",
   "metadata": {},
   "outputs": [],
   "source": []
  },
  {
   "cell_type": "code",
   "execution_count": null,
   "id": "1ec12fee",
   "metadata": {},
   "outputs": [],
   "source": []
  },
  {
   "cell_type": "code",
   "execution_count": null,
   "id": "44d04a46",
   "metadata": {},
   "outputs": [],
   "source": []
  },
  {
   "cell_type": "code",
   "execution_count": null,
   "id": "7a071cce",
   "metadata": {},
   "outputs": [],
   "source": []
  },
  {
   "cell_type": "code",
   "execution_count": null,
   "id": "7d4ae947",
   "metadata": {},
   "outputs": [],
   "source": []
  }
 ],
 "metadata": {
  "kernelspec": {
   "display_name": "Python 3 (ipykernel)",
   "language": "python",
   "name": "python3"
  },
  "language_info": {
   "codemirror_mode": {
    "name": "ipython",
    "version": 3
   },
   "file_extension": ".py",
   "mimetype": "text/x-python",
   "name": "python",
   "nbconvert_exporter": "python",
   "pygments_lexer": "ipython3",
   "version": "3.11.5"
  }
 },
 "nbformat": 4,
 "nbformat_minor": 5
}
