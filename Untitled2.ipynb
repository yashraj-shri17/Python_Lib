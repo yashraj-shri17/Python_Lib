{
 "cells": [
  {
   "cell_type": "code",
   "execution_count": 3,
   "id": "04dbe997",
   "metadata": {},
   "outputs": [
    {
     "name": "stdout",
     "output_type": "stream",
     "text": [
      "enter 1st number2\n",
      "enter 2nd number3\n",
      "the sum is  5\n"
     ]
    }
   ],
   "source": [
    "x1=int(input(\"enter 1st number\"))\n",
    "x2=int(input(\"enter 2nd number\"))\n",
    "add=x1+x2\n",
    "print(\"the sum is \",add)"
   ]
  },
  {
   "cell_type": "code",
   "execution_count": 7,
   "id": "c84fe77c",
   "metadata": {},
   "outputs": [
    {
     "name": "stdout",
     "output_type": "stream",
     "text": [
      "enter your radius3\n",
      "the area of circle is  28.259999999999998\n"
     ]
    }
   ],
   "source": [
    "r=int(input(\"enter your radius\"))\n",
    "area=3.14*r*r\n",
    "print(\"the area of circle is \",area)"
   ]
  },
  {
   "cell_type": "code",
   "execution_count": 20,
   "id": "000ac215",
   "metadata": {},
   "outputs": [
    {
     "name": "stdout",
     "output_type": "stream",
     "text": [
      "enter the the base value3\n",
      "enter the height value9\n",
      "the area of the triangle is  13.5\n"
     ]
    }
   ],
   "source": [
    "b=int(input(\"enter the the base value\"))\n",
    "h=int(input(\"enter the height value\"))\n",
    "area=(1/2)*b*h\n",
    "print(\"the area of the triangle is \",area)"
   ]
  },
  {
   "cell_type": "code",
   "execution_count": 19,
   "id": "295c313f",
   "metadata": {},
   "outputs": [
    {
     "name": "stdout",
     "output_type": "stream",
     "text": [
      "enter the value of b : -5\n",
      "enter the value of a : 1\n",
      "enter the value of c : 6\n",
      "the roots of the equation are or3.0or2.0\n"
     ]
    }
   ],
   "source": [
    "b=int(input(\"enter the value of b : \"))\n",
    "a=int(input(\"enter the value of a : \"))\n",
    "c=int(input(\"enter the value of c : \"))\n",
    "root1=(-b+(b*b-4*a*c)**0.5)/(2*a)\n",
    "root2=(-b-(b*b-4*a*c)**0.5)/(2*a)\n",
    "print(\"the roots of the equation are \",root1,root2,sep=\" \")\n",
    "\n"
   ]
  },
  {
   "cell_type": "code",
   "execution_count": 68,
   "id": "d1b5ad92",
   "metadata": {},
   "outputs": [
    {
     "name": "stdout",
     "output_type": "stream",
     "text": [
      "pw ioi bangalore pw ioi bangalore\n"
     ]
    }
   ],
   "source": [
    "x=\"pw ioi bangalore\"\n",
    "y=x\n",
    "x[-1:-10:-1]\n",
    "y[-9::]"
   ]
  },
  {
   "cell_type": "code",
   "execution_count": 71,
   "id": "ad3d9052",
   "metadata": {},
   "outputs": [
    {
     "data": {
      "text/plain": [
       "9"
      ]
     },
     "execution_count": 71,
     "metadata": {},
     "output_type": "execute_result"
    }
   ],
   "source": [
    "3 ** 2"
   ]
  },
  {
   "cell_type": "code",
   "execution_count": 77,
   "id": "fbb5a5f5",
   "metadata": {},
   "outputs": [
    {
     "data": {
      "text/plain": [
       "97"
      ]
     },
     "execution_count": 77,
     "metadata": {},
     "output_type": "execute_result"
    }
   ],
   "source": [
    "ord('a')"
   ]
  },
  {
   "cell_type": "code",
   "execution_count": 85,
   "id": "67e60a44",
   "metadata": {},
   "outputs": [
    {
     "name": "stdout",
     "output_type": "stream",
     "text": [
      "a= BHOPAL b= bhopal True\n"
     ]
    }
   ],
   "source": [
    "a=\"BHOPAL\"\n",
    "b=\"bhopal\"\n",
    "print(\"a=\",a,\"b=\",b,a<=b)"
   ]
  },
  {
   "cell_type": "code",
   "execution_count": 90,
   "id": "2d7a9002",
   "metadata": {},
   "outputs": [
    {
     "data": {
      "text/plain": [
       "False"
      ]
     },
     "execution_count": 90,
     "metadata": {},
     "output_type": "execute_result"
    }
   ],
   "source": [
    "5<4<6"
   ]
  },
  {
   "cell_type": "code",
   "execution_count": 95,
   "id": "c62a327c",
   "metadata": {},
   "outputs": [
    {
     "name": "stdout",
     "output_type": "stream",
     "text": [
      "False\n"
     ]
    }
   ],
   "source": [
    "print(10==True)"
   ]
  },
  {
   "cell_type": "code",
   "execution_count": 98,
   "id": "8b0bcb00",
   "metadata": {},
   "outputs": [
    {
     "name": "stdout",
     "output_type": "stream",
     "text": [
      "False\n"
     ]
    }
   ],
   "source": [
    "print(\"A\"==\"65\")"
   ]
  },
  {
   "cell_type": "code",
   "execution_count": 102,
   "id": "16e5778c",
   "metadata": {},
   "outputs": [
    {
     "data": {
      "text/plain": [
       "1"
      ]
     },
     "execution_count": 102,
     "metadata": {},
     "output_type": "execute_result"
    }
   ],
   "source": [
    "int(True)"
   ]
  },
  {
   "cell_type": "code",
   "execution_count": 108,
   "id": "eea96580",
   "metadata": {},
   "outputs": [
    {
     "data": {
      "text/plain": [
       "0"
      ]
     },
     "execution_count": 108,
     "metadata": {},
     "output_type": "execute_result"
    }
   ],
   "source": [
    "0 and 5\n"
   ]
  },
  {
   "cell_type": "code",
   "execution_count": 110,
   "id": "5ff97e51",
   "metadata": {},
   "outputs": [
    {
     "name": "stdout",
     "output_type": "stream",
     "text": [
      "10 10 10\n"
     ]
    }
   ],
   "source": [
    "x=y=z=10\n",
    "print(x,y,x)"
   ]
  },
  {
   "cell_type": "code",
   "execution_count": 111,
   "id": "a1d96943",
   "metadata": {},
   "outputs": [
    {
     "name": "stdout",
     "output_type": "stream",
     "text": [
      "10 11\n"
     ]
    }
   ],
   "source": [
    "x,y=10,11\n",
    "print(x,y)"
   ]
  }
 ],
 "metadata": {
  "kernelspec": {
   "display_name": "Python 3 (ipykernel)",
   "language": "python",
   "name": "python3"
  },
  "language_info": {
   "codemirror_mode": {
    "name": "ipython",
    "version": 3
   },
   "file_extension": ".py",
   "mimetype": "text/x-python",
   "name": "python",
   "nbconvert_exporter": "python",
   "pygments_lexer": "ipython3",
   "version": "3.11.5"
  }
 },
 "nbformat": 4,
 "nbformat_minor": 5
}
