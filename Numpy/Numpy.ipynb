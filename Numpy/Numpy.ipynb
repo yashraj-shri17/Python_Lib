{
 "cells": [
  {
   "cell_type": "code",
   "execution_count": 21,
   "id": "985860d9",
   "metadata": {},
   "outputs": [],
   "source": [
    "# -*- coding: utf-8 -*-\n",
    "#NUMPY\n",
    "\n",
    "#numpy is an open library used for numerical operations\"\"\"\n",
    "#Ways to install any library is \"pip install numpy\" in command prompt, or to \n",
    "#see how many libraries are there in your machine type \"pip freeze\". \"\"\"\n",
    "\n",
    "#WAYS TO IMPORT NUMPY"
   ]
  },
  {
   "cell_type": "code",
   "execution_count": 3,
   "id": "640d0c26",
   "metadata": {},
   "outputs": [],
   "source": [
    "import numpy"
   ]
  },
  {
   "cell_type": "code",
   "execution_count": 4,
   "id": "be0d5b5e",
   "metadata": {},
   "outputs": [
    {
     "ename": "NameError",
     "evalue": "name 'array' is not defined",
     "output_type": "error",
     "traceback": [
      "\u001b[1;31m---------------------------------------------------------------------------\u001b[0m",
      "\u001b[1;31mNameError\u001b[0m                                 Traceback (most recent call last)",
      "Cell \u001b[1;32mIn[4], line 1\u001b[0m\n\u001b[1;32m----> 1\u001b[0m array([\u001b[38;5;241m1\u001b[39m,\u001b[38;5;241m2\u001b[39m,\u001b[38;5;241m3\u001b[39m,\u001b[38;5;241m4\u001b[39m,\u001b[38;5;241m5\u001b[39m,\u001b[38;5;241m6\u001b[39m])\n",
      "\u001b[1;31mNameError\u001b[0m: name 'array' is not defined"
     ]
    }
   ],
   "source": [
    "array([1,2,3,4,5,6])"
   ]
  },
  {
   "cell_type": "code",
   "execution_count": null,
   "id": "b95258ff",
   "metadata": {},
   "outputs": [],
   "source": [
    "# the above thing will not work because this is not the right way of defining an array of numpy."
   ]
  },
  {
   "cell_type": "code",
   "execution_count": null,
   "id": "0b2e8ee3",
   "metadata": {},
   "outputs": [],
   "source": [
    "#using direct numpy functions."
   ]
  },
  {
   "cell_type": "code",
   "execution_count": 6,
   "id": "9cf093e6",
   "metadata": {},
   "outputs": [],
   "source": [
    "numpy.array([1,2,3,4,5,6])"
   ]
  },
  {
   "cell_type": "code",
   "execution_count": 10,
   "id": "fb741277",
   "metadata": {},
   "outputs": [],
   "source": [
    "#using Alias as np"
   ]
  },
  {
   "cell_type": "code",
   "execution_count": 8,
   "id": "561d7130",
   "metadata": {},
   "outputs": [],
   "source": [
    "import numpy as np"
   ]
  },
  {
   "cell_type": "code",
   "execution_count": 9,
   "id": "c97dbf40",
   "metadata": {},
   "outputs": [
    {
     "data": {
      "text/plain": [
       "array([1, 2, 3, 4, 5, 6])"
      ]
     },
     "execution_count": 9,
     "metadata": {},
     "output_type": "execute_result"
    }
   ],
   "source": [
    "np.array([1,2,3,4,5,6])"
   ]
  },
  {
   "cell_type": "code",
   "execution_count": 11,
   "id": "c2a98802",
   "metadata": {},
   "outputs": [],
   "source": [
    "#NUMPY TAKES LESS MEMORY THAN LISTS.\n"
   ]
  },
  {
   "cell_type": "code",
   "execution_count": 12,
   "id": "c6809f02",
   "metadata": {},
   "outputs": [],
   "source": [
    "import sys"
   ]
  },
  {
   "cell_type": "code",
   "execution_count": 13,
   "id": "fd2c3706",
   "metadata": {},
   "outputs": [],
   "source": [
    "u = range(1000)"
   ]
  },
  {
   "cell_type": "markdown",
   "id": "373fbc0f",
   "metadata": {},
   "source": []
  },
  {
   "cell_type": "code",
   "execution_count": 20,
   "id": "7e0d809b",
   "metadata": {},
   "outputs": [],
   "source": [
    "#print(u)"
   ]
  },
  {
   "cell_type": "code",
   "execution_count": 19,
   "id": "28d323b8",
   "metadata": {},
   "outputs": [],
   "source": [
    "#for i in u:\n",
    " #   print(i)"
   ]
  },
  {
   "cell_type": "code",
   "execution_count": 27,
   "id": "dbded5f2",
   "metadata": {},
   "outputs": [
    {
     "name": "stdout",
     "output_type": "stream",
     "text": [
      "28000\n"
     ]
    }
   ],
   "source": [
    "print(sys.getsizeof(5)*(len(u)))"
   ]
  },
  {
   "cell_type": "code",
   "execution_count": 23,
   "id": "8cd24949",
   "metadata": {},
   "outputs": [],
   "source": [
    "d=np.arange(100)"
   ]
  },
  {
   "cell_type": "code",
   "execution_count": 28,
   "id": "2ac967e4",
   "metadata": {},
   "outputs": [
    {
     "name": "stdout",
     "output_type": "stream",
     "text": [
      "400\n"
     ]
    }
   ],
   "source": [
    "print(d.size*d.itemsize)"
   ]
  },
  {
   "cell_type": "code",
   "execution_count": 29,
   "id": "6a021ed7",
   "metadata": {},
   "outputs": [],
   "source": [
    "#NUMPY IS ALSO FASTER THAN LISTS."
   ]
  },
  {
   "cell_type": "code",
   "execution_count": 36,
   "id": "0f8fff90",
   "metadata": {},
   "outputs": [],
   "source": [
    "#NUMPY VS LISTS(by checking BMI calculations)"
   ]
  },
  {
   "cell_type": "code",
   "execution_count": 37,
   "id": "210baf04",
   "metadata": {},
   "outputs": [],
   "source": [
    "heights = [1.76 , 1.65, 1.71]"
   ]
  },
  {
   "cell_type": "code",
   "execution_count": 38,
   "id": "cbda7c01",
   "metadata": {},
   "outputs": [],
   "source": [
    "weights = [91, 65,81]"
   ]
  },
  {
   "cell_type": "code",
   "execution_count": 39,
   "id": "021dcd34",
   "metadata": {},
   "outputs": [
    {
     "ename": "TypeError",
     "evalue": "unsupported operand type(s) for ** or pow(): 'list' and 'int'",
     "output_type": "error",
     "traceback": [
      "\u001b[1;31m---------------------------------------------------------------------------\u001b[0m",
      "\u001b[1;31mTypeError\u001b[0m                                 Traceback (most recent call last)",
      "Cell \u001b[1;32mIn[39], line 1\u001b[0m\n\u001b[1;32m----> 1\u001b[0m BMI \u001b[38;5;241m=\u001b[39m weights\u001b[38;5;241m/\u001b[39mheights\u001b[38;5;241m*\u001b[39m\u001b[38;5;241m*\u001b[39m\u001b[38;5;241m2\u001b[39m\n",
      "\u001b[1;31mTypeError\u001b[0m: unsupported operand type(s) for ** or pow(): 'list' and 'int'"
     ]
    }
   ],
   "source": [
    "BMI = weights/heights**2"
   ]
  },
  {
   "cell_type": "code",
   "execution_count": 40,
   "id": "c30ad434",
   "metadata": {},
   "outputs": [],
   "source": [
    "#so above we saw in lists we can not perform any mathematical operations."
   ]
  },
  {
   "cell_type": "code",
   "execution_count": 41,
   "id": "60544933",
   "metadata": {},
   "outputs": [],
   "source": [
    "height_in_m = np.array([heights])"
   ]
  },
  {
   "cell_type": "code",
   "execution_count": 42,
   "id": "420e9885",
   "metadata": {},
   "outputs": [],
   "source": [
    "weight_in_kg = np.array([weights])"
   ]
  },
  {
   "cell_type": "code",
   "execution_count": 43,
   "id": "a51d15a6",
   "metadata": {},
   "outputs": [],
   "source": [
    "BMI = weight_in_kg/height_in_m**2"
   ]
  },
  {
   "cell_type": "code",
   "execution_count": 44,
   "id": "169f177d",
   "metadata": {},
   "outputs": [
    {
     "name": "stdout",
     "output_type": "stream",
     "text": [
      "[[29.37758264 23.87511478 27.70083102]]\n"
     ]
    }
   ],
   "source": [
    "print(BMI)"
   ]
  },
  {
   "cell_type": "code",
   "execution_count": null,
   "id": "1abf8bb5",
   "metadata": {},
   "outputs": [],
   "source": [
    "#so we saw how numpy is helpful in mathematical operations"
   ]
  },
  {
   "cell_type": "code",
   "execution_count": null,
   "id": "5c5451d7",
   "metadata": {},
   "outputs": [],
   "source": [
    "#NUMPY ARRAYS CAN ONLY 1 DATA TYPE"
   ]
  },
  {
   "cell_type": "code",
   "execution_count": 48,
   "id": "2227522b",
   "metadata": {},
   "outputs": [],
   "source": [
    "d = np.array([1,2.8,True,\"hello\"])"
   ]
  },
  {
   "cell_type": "code",
   "execution_count": 49,
   "id": "6172a123",
   "metadata": {},
   "outputs": [
    {
     "name": "stdout",
     "output_type": "stream",
     "text": [
      "['1' '2.8' 'True' 'hello']\n"
     ]
    }
   ],
   "source": [
    "print(d)"
   ]
  },
  {
   "cell_type": "code",
   "execution_count": null,
   "id": "9c56fec6",
   "metadata": {},
   "outputs": [],
   "source": [
    "#see in this array of d , the higest priority was with strings , so it has eventually converted all other data types into strings."
   ]
  },
  {
   "cell_type": "code",
   "execution_count": 50,
   "id": "9294b3c3",
   "metadata": {},
   "outputs": [],
   "source": [
    "d = np.array([1,2.8,True])"
   ]
  },
  {
   "cell_type": "code",
   "execution_count": 51,
   "id": "9c0e9e60",
   "metadata": {},
   "outputs": [
    {
     "name": "stdout",
     "output_type": "stream",
     "text": [
      "[1.  2.8 1. ]\n"
     ]
    }
   ],
   "source": [
    "print(d)"
   ]
  },
  {
   "cell_type": "code",
   "execution_count": null,
   "id": "6ae199e2",
   "metadata": {},
   "outputs": [],
   "source": [
    "#see in this array of d , the higest priority was with float , so it has eventually converted all other data types into floats."
   ]
  },
  {
   "cell_type": "code",
   "execution_count": 52,
   "id": "33164f76",
   "metadata": {},
   "outputs": [],
   "source": [
    "d = np.array([1,True])"
   ]
  },
  {
   "cell_type": "code",
   "execution_count": 53,
   "id": "d4ec50a1",
   "metadata": {},
   "outputs": [
    {
     "name": "stdout",
     "output_type": "stream",
     "text": [
      "[1 1]\n"
     ]
    }
   ],
   "source": [
    "print(d)"
   ]
  },
  {
   "cell_type": "code",
   "execution_count": null,
   "id": "61439f46",
   "metadata": {},
   "outputs": [],
   "source": [
    "#see in this array of d , the higest priority was with integer, so it has eventually converted all other data types into integers."
   ]
  },
  {
   "cell_type": "code",
   "execution_count": null,
   "id": "ce0455a9",
   "metadata": {},
   "outputs": [],
   "source": [
    "#ADDING TWO LISTS"
   ]
  },
  {
   "cell_type": "code",
   "execution_count": 54,
   "id": "1b5f3e20",
   "metadata": {},
   "outputs": [],
   "source": [
    "list=[1,2,3,4]"
   ]
  },
  {
   "cell_type": "code",
   "execution_count": 55,
   "id": "4b09e75a",
   "metadata": {},
   "outputs": [
    {
     "data": {
      "text/plain": [
       "[1, 2, 3, 4, 1, 2, 3, 4]"
      ]
     },
     "execution_count": 55,
     "metadata": {},
     "output_type": "execute_result"
    }
   ],
   "source": [
    "list + list"
   ]
  },
  {
   "cell_type": "code",
   "execution_count": null,
   "id": "a7973d26",
   "metadata": {},
   "outputs": [],
   "source": [
    "#see in above line it has not added the values, instead of it has concated the values of it."
   ]
  },
  {
   "cell_type": "code",
   "execution_count": 56,
   "id": "9f9c1616",
   "metadata": {},
   "outputs": [],
   "source": [
    "np_array = np.array([1,3,6,7])"
   ]
  },
  {
   "cell_type": "code",
   "execution_count": 57,
   "id": "c45f1285",
   "metadata": {},
   "outputs": [
    {
     "data": {
      "text/plain": [
       "array([ 2,  6, 12, 14])"
      ]
     },
     "execution_count": 57,
     "metadata": {},
     "output_type": "execute_result"
    }
   ],
   "source": [
    "np_array+np_array"
   ]
  },
  {
   "cell_type": "code",
   "execution_count": null,
   "id": "3c09f068",
   "metadata": {},
   "outputs": [],
   "source": [
    "#see it has particularily added the values of their corresponding indexes."
   ]
  },
  {
   "cell_type": "code",
   "execution_count": null,
   "id": "dcfbd0d5",
   "metadata": {},
   "outputs": [],
   "source": [
    "#SUBSETTING"
   ]
  },
  {
   "cell_type": "code",
   "execution_count": 58,
   "id": "1b15d4f3",
   "metadata": {},
   "outputs": [
    {
     "data": {
      "text/plain": [
       "array([[29.37758264, 23.87511478, 27.70083102]])"
      ]
     },
     "execution_count": 58,
     "metadata": {},
     "output_type": "execute_result"
    }
   ],
   "source": [
    "BMI"
   ]
  },
  {
   "cell_type": "code",
   "execution_count": 70,
   "id": "58a5a0c1",
   "metadata": {},
   "outputs": [],
   "source": [
    "light_ppl = np.array(BMI<26)"
   ]
  },
  {
   "cell_type": "code",
   "execution_count": 71,
   "id": "7941b194",
   "metadata": {},
   "outputs": [
    {
     "name": "stdout",
     "output_type": "stream",
     "text": [
      "[[False  True False]]\n"
     ]
    }
   ],
   "source": [
    "print(light_ppl)"
   ]
  },
  {
   "cell_type": "code",
   "execution_count": 81,
   "id": "d9e7cc0d",
   "metadata": {},
   "outputs": [],
   "source": [
    "import numpy as np"
   ]
  },
  {
   "cell_type": "code",
   "execution_count": 85,
   "id": "34b6497e",
   "metadata": {},
   "outputs": [],
   "source": [
    "dash = [[200,180],[40,60],[45,90],[9.0,0]]"
   ]
  },
  {
   "cell_type": "code",
   "execution_count": null,
   "id": "92f8e346",
   "metadata": {
    "collapsed": true
   },
   "outputs": [],
   "source": [
    "#converting into 2-D array"
   ]
  },
  {
   "cell_type": "code",
   "execution_count": 89,
   "id": "b22c21fe",
   "metadata": {},
   "outputs": [],
   "source": [
    "np_dash = np.array(dash)"
   ]
  },
  {
   "cell_type": "code",
   "execution_count": 90,
   "id": "e9adce9e",
   "metadata": {},
   "outputs": [
    {
     "name": "stdout",
     "output_type": "stream",
     "text": [
      "[[200. 180.]\n",
      " [ 40.  60.]\n",
      " [ 45.  90.]\n",
      " [  9.   0.]]\n"
     ]
    }
   ],
   "source": [
    "print(np_dash)"
   ]
  },
  {
   "cell_type": "code",
   "execution_count": null,
   "id": "f06d6c6f",
   "metadata": {},
   "outputs": [],
   "source": [
    "#here,as we can see it has converted it into 2-D array. and the element 9.0 is in float , so it has converted all other elements into decimal type."
   ]
  },
  {
   "cell_type": "code",
   "execution_count": null,
   "id": "145374df",
   "metadata": {},
   "outputs": [],
   "source": [
    "#type"
   ]
  },
  {
   "cell_type": "code",
   "execution_count": 91,
   "id": "db3cfe40",
   "metadata": {},
   "outputs": [
    {
     "data": {
      "text/plain": [
       "numpy.ndarray"
      ]
     },
     "execution_count": 91,
     "metadata": {},
     "output_type": "execute_result"
    }
   ],
   "source": [
    "type(np_dash)"
   ]
  },
  {
   "cell_type": "code",
   "execution_count": null,
   "id": "b592c165",
   "metadata": {},
   "outputs": [],
   "source": [
    "#shape"
   ]
  },
  {
   "cell_type": "code",
   "execution_count": 92,
   "id": "479ea92a",
   "metadata": {},
   "outputs": [
    {
     "data": {
      "text/plain": [
       "(4, 2)"
      ]
     },
     "execution_count": 92,
     "metadata": {},
     "output_type": "execute_result"
    }
   ],
   "source": [
    "np_dash.shape"
   ]
  },
  {
   "cell_type": "code",
   "execution_count": null,
   "id": "53306686",
   "metadata": {},
   "outputs": [],
   "source": [
    "#SUBSETTING"
   ]
  },
  {
   "cell_type": "code",
   "execution_count": 94,
   "id": "7dbab6ba",
   "metadata": {},
   "outputs": [],
   "source": [
    "#ARRAY_NAME[ROW NO][COL NO]"
   ]
  },
  {
   "cell_type": "code",
   "execution_count": 93,
   "id": "92b3ba28",
   "metadata": {},
   "outputs": [
    {
     "data": {
      "text/plain": [
       "180.0"
      ]
     },
     "execution_count": 93,
     "metadata": {},
     "output_type": "execute_result"
    }
   ],
   "source": [
    "np_dash[0][1]"
   ]
  },
  {
   "cell_type": "code",
   "execution_count": null,
   "id": "e9427fb6",
   "metadata": {},
   "outputs": [],
   "source": [
    "#NUMPY ARRAYS SUBSETTING"
   ]
  },
  {
   "cell_type": "code",
   "execution_count": null,
   "id": "58f80396",
   "metadata": {},
   "outputs": [],
   "source": [
    "#ARRAY_NAME[ROW NO,COL NO]"
   ]
  },
  {
   "cell_type": "code",
   "execution_count": 96,
   "id": "7e59aa2e",
   "metadata": {},
   "outputs": [
    {
     "data": {
      "text/plain": [
       "60.0"
      ]
     },
     "execution_count": 96,
     "metadata": {},
     "output_type": "execute_result"
    }
   ],
   "source": [
    "np_dash[1,1]"
   ]
  },
  {
   "cell_type": "code",
   "execution_count": null,
   "id": "f280e357",
   "metadata": {},
   "outputs": [],
   "source": [
    "#its giving the value which is 1st row and 1st column"
   ]
  },
  {
   "cell_type": "code",
   "execution_count": 97,
   "id": "a0527d07",
   "metadata": {},
   "outputs": [
    {
     "data": {
      "text/plain": [
       "array([180.,  60.,  90.,   0.])"
      ]
     },
     "execution_count": 97,
     "metadata": {},
     "output_type": "execute_result"
    }
   ],
   "source": [
    "np_dash[:,1]"
   ]
  },
  {
   "cell_type": "code",
   "execution_count": null,
   "id": "87492294",
   "metadata": {},
   "outputs": [],
   "source": [
    "#its giving all the values of entire column and ':' indicates all"
   ]
  },
  {
   "cell_type": "code",
   "execution_count": null,
   "id": "c2ff432b",
   "metadata": {},
   "outputs": [],
   "source": [
    "#DESCRYPTIVE STATISTICS"
   ]
  },
  {
   "cell_type": "code",
   "execution_count": null,
   "id": "2ff5d838",
   "metadata": {},
   "outputs": [],
   "source": [
    "#This will give mean."
   ]
  },
  {
   "cell_type": "code",
   "execution_count": 99,
   "id": "3642a230",
   "metadata": {},
   "outputs": [
    {
     "data": {
      "text/plain": [
       "73.5"
      ]
     },
     "execution_count": 99,
     "metadata": {},
     "output_type": "execute_result"
    }
   ],
   "source": [
    "np.mean(np_dash[:,0])"
   ]
  },
  {
   "cell_type": "code",
   "execution_count": null,
   "id": "8be00c13",
   "metadata": {},
   "outputs": [],
   "source": [
    "#This will give median."
   ]
  },
  {
   "cell_type": "code",
   "execution_count": 100,
   "id": "60baadd9",
   "metadata": {},
   "outputs": [
    {
     "data": {
      "text/plain": [
       "42.5"
      ]
     },
     "execution_count": 100,
     "metadata": {},
     "output_type": "execute_result"
    }
   ],
   "source": [
    "np.median(np_dash[:,0])"
   ]
  },
  {
   "cell_type": "code",
   "execution_count": null,
   "id": "426a38f2",
   "metadata": {},
   "outputs": [],
   "source": [
    "#This will give correlation coefficient."
   ]
  },
  {
   "cell_type": "code",
   "execution_count": 102,
   "id": "0e9e0c62",
   "metadata": {},
   "outputs": [
    {
     "data": {
      "text/plain": [
       "array([[ 1., -1., -1.,  1.],\n",
       "       [-1.,  1.,  1., -1.],\n",
       "       [-1.,  1.,  1., -1.],\n",
       "       [ 1., -1., -1.,  1.]])"
      ]
     },
     "execution_count": 102,
     "metadata": {},
     "output_type": "execute_result"
    }
   ],
   "source": [
    "np.corrcoef(np_dash[:,:])"
   ]
  },
  {
   "cell_type": "code",
   "execution_count": null,
   "id": "00341921",
   "metadata": {},
   "outputs": [],
   "source": [
    "#This will give std deviation."
   ]
  },
  {
   "cell_type": "code",
   "execution_count": 107,
   "id": "c3bd9544",
   "metadata": {},
   "outputs": [
    {
     "data": {
      "text/plain": [
       "74.32529851941396"
      ]
     },
     "execution_count": 107,
     "metadata": {},
     "output_type": "execute_result"
    }
   ],
   "source": [
    "np.std(np_dash[:,0])"
   ]
  },
  {
   "cell_type": "code",
   "execution_count": null,
   "id": "e3c1e8d1",
   "metadata": {},
   "outputs": [],
   "source": [
    "#ADDING TWO 2D MATRIX"
   ]
  },
  {
   "cell_type": "code",
   "execution_count": 109,
   "id": "bc872b74",
   "metadata": {},
   "outputs": [],
   "source": [
    "x=[[2,3,4],[2,3,5],[1,5,4]]"
   ]
  },
  {
   "cell_type": "code",
   "execution_count": 110,
   "id": "14098a6f",
   "metadata": {},
   "outputs": [],
   "source": [
    "np_x = np.array(x)"
   ]
  },
  {
   "cell_type": "code",
   "execution_count": 111,
   "id": "d92620bf",
   "metadata": {},
   "outputs": [
    {
     "name": "stdout",
     "output_type": "stream",
     "text": [
      "[[2 3 4]\n",
      " [2 3 5]\n",
      " [1 5 4]]\n"
     ]
    }
   ],
   "source": [
    "print(np_x)"
   ]
  },
  {
   "cell_type": "code",
   "execution_count": 112,
   "id": "ec128bb7",
   "metadata": {},
   "outputs": [],
   "source": [
    "y=[[2,3,4],[2,3,5],[1,5,4]]"
   ]
  },
  {
   "cell_type": "code",
   "execution_count": 113,
   "id": "900bb752",
   "metadata": {},
   "outputs": [],
   "source": [
    "np_y = np.array(y)"
   ]
  },
  {
   "cell_type": "code",
   "execution_count": 114,
   "id": "3ddb7ce7",
   "metadata": {},
   "outputs": [],
   "source": [
    "np_total = np_x + np_y"
   ]
  },
  {
   "cell_type": "code",
   "execution_count": 115,
   "id": "c42d2dff",
   "metadata": {},
   "outputs": [
    {
     "name": "stdout",
     "output_type": "stream",
     "text": [
      "[[ 4  6  8]\n",
      " [ 4  6 10]\n",
      " [ 2 10  8]]\n"
     ]
    }
   ],
   "source": [
    "print(np_total)"
   ]
  },
  {
   "cell_type": "code",
   "execution_count": null,
   "id": "3ee71d22",
   "metadata": {},
   "outputs": [],
   "source": [
    "#multipyling 2D arrays  by a scalar"
   ]
  },
  {
   "cell_type": "code",
   "execution_count": 116,
   "id": "e9f7b3b0",
   "metadata": {},
   "outputs": [],
   "source": [
    "multiply = [2,3,4]"
   ]
  },
  {
   "cell_type": "code",
   "execution_count": 117,
   "id": "13e9666e",
   "metadata": {},
   "outputs": [],
   "source": [
    "np_multiply = np_x * multiply"
   ]
  },
  {
   "cell_type": "code",
   "execution_count": null,
   "id": "d48dae92",
   "metadata": {},
   "outputs": [],
   "source": [
    "#Here, the first element of multiply is getting multiplied with the element of 1st row,1st col"
   ]
  },
  {
   "cell_type": "code",
   "execution_count": null,
   "id": "31fb34bb",
   "metadata": {},
   "outputs": [],
   "source": [
    "# the second element of multiply is getting multiplied with the element of 1st row, 2nd col"
   ]
  },
  {
   "cell_type": "code",
   "execution_count": null,
   "id": "1bd410bd",
   "metadata": {},
   "outputs": [],
   "source": [
    "# the third element of multiply is getting multiplied with the element of 1st row, 3rd col"
   ]
  },
  {
   "cell_type": "code",
   "execution_count": null,
   "id": "f06845be",
   "metadata": {},
   "outputs": [],
   "source": [
    "#Here, the first element of multiply is getting multiplied with the element of 2nd row,1st col"
   ]
  },
  {
   "cell_type": "code",
   "execution_count": null,
   "id": "04587a87",
   "metadata": {},
   "outputs": [],
   "source": [
    "# the second element of multiply is getting multiplied with the element of 2nd row, 2nd col"
   ]
  },
  {
   "cell_type": "code",
   "execution_count": null,
   "id": "4e28fdd6",
   "metadata": {},
   "outputs": [],
   "source": [
    "# the third element of multiply is getting multiplied with the element of 3rd row, 3rd col"
   ]
  },
  {
   "cell_type": "code",
   "execution_count": 118,
   "id": "fffb75db",
   "metadata": {},
   "outputs": [
    {
     "name": "stdout",
     "output_type": "stream",
     "text": [
      "[[ 4  9 16]\n",
      " [ 4  9 20]\n",
      " [ 2 15 16]]\n"
     ]
    }
   ],
   "source": [
    "print(np_multiply)"
   ]
  },
  {
   "cell_type": "code",
   "execution_count": null,
   "id": "d8ecb899",
   "metadata": {},
   "outputs": [],
   "source": [
    "#CONCATING NUMPY ARRAYS"
   ]
  },
  {
   "cell_type": "code",
   "execution_count": null,
   "id": "b72bdabe",
   "metadata": {},
   "outputs": [],
   "source": [
    "#creating an array with the help of tuples"
   ]
  },
  {
   "cell_type": "code",
   "execution_count": 120,
   "id": "52838938",
   "metadata": {},
   "outputs": [],
   "source": [
    "x = np.array([(1,2,3),(4,5,6),(7,8,9)])"
   ]
  },
  {
   "cell_type": "code",
   "execution_count": 121,
   "id": "0a32b473",
   "metadata": {},
   "outputs": [
    {
     "data": {
      "text/plain": [
       "array([[1, 2, 3],\n",
       "       [4, 5, 6],\n",
       "       [7, 8, 9]])"
      ]
     },
     "execution_count": 121,
     "metadata": {},
     "output_type": "execute_result"
    }
   ],
   "source": [
    "x"
   ]
  },
  {
   "cell_type": "code",
   "execution_count": 122,
   "id": "5a81caf1",
   "metadata": {},
   "outputs": [],
   "source": [
    "y = np.array([(1,2,3),(4,5,6),(7,8,9)])"
   ]
  },
  {
   "cell_type": "code",
   "execution_count": 127,
   "id": "aae56765",
   "metadata": {},
   "outputs": [
    {
     "data": {
      "text/plain": [
       "array([[1, 2, 3],\n",
       "       [4, 5, 6],\n",
       "       [7, 8, 9],\n",
       "       [1, 2, 3],\n",
       "       [4, 5, 6],\n",
       "       [7, 8, 9],\n",
       "       [1, 2, 3],\n",
       "       [4, 5, 6],\n",
       "       [7, 8, 9]])"
      ]
     },
     "execution_count": 127,
     "metadata": {},
     "output_type": "execute_result"
    }
   ],
   "source": [
    "np.vstack((x,y))"
   ]
  },
  {
   "cell_type": "code",
   "execution_count": null,
   "id": "7554b2f7",
   "metadata": {},
   "outputs": [],
   "source": [
    "#with the help of vstack , it has concated two arrays vertically."
   ]
  },
  {
   "cell_type": "code",
   "execution_count": 124,
   "id": "ad832c20",
   "metadata": {},
   "outputs": [
    {
     "data": {
      "text/plain": [
       "array([[1, 2, 3, 1, 2, 3],\n",
       "       [4, 5, 6, 4, 5, 6],\n",
       "       [7, 8, 9, 7, 8, 9]])"
      ]
     },
     "execution_count": 124,
     "metadata": {},
     "output_type": "execute_result"
    }
   ],
   "source": [
    "np.hstack((x,y))"
   ]
  },
  {
   "cell_type": "code",
   "execution_count": null,
   "id": "d93f0cb8",
   "metadata": {},
   "outputs": [],
   "source": [
    "#with the help of hstack , it has concated two arrays horizontally."
   ]
  },
  {
   "cell_type": "code",
   "execution_count": null,
   "id": "8a647d22",
   "metadata": {},
   "outputs": [],
   "source": []
  },
  {
   "cell_type": "code",
   "execution_count": null,
   "id": "e1e26c97",
   "metadata": {},
   "outputs": [],
   "source": [
    "#SOME COMMONLY USED FUNCTIONS"
   ]
  },
  {
   "cell_type": "code",
   "execution_count": null,
   "id": "63e9c823",
   "metadata": {},
   "outputs": [],
   "source": [
    "#sum of all the elements in matrix x"
   ]
  },
  {
   "cell_type": "code",
   "execution_count": 129,
   "id": "85e92523",
   "metadata": {},
   "outputs": [
    {
     "data": {
      "text/plain": [
       "90"
      ]
     },
     "execution_count": 129,
     "metadata": {},
     "output_type": "execute_result"
    }
   ],
   "source": [
    "x.sum()"
   ]
  },
  {
   "cell_type": "code",
   "execution_count": null,
   "id": "c532bb61",
   "metadata": {},
   "outputs": [],
   "source": [
    "#max value of matrix x"
   ]
  },
  {
   "cell_type": "code",
   "execution_count": 130,
   "id": "eb04579b",
   "metadata": {},
   "outputs": [
    {
     "data": {
      "text/plain": [
       "9"
      ]
     },
     "execution_count": 130,
     "metadata": {},
     "output_type": "execute_result"
    }
   ],
   "source": [
    "x.max()"
   ]
  },
  {
   "cell_type": "code",
   "execution_count": null,
   "id": "e3d6d0c8",
   "metadata": {},
   "outputs": [],
   "source": [
    "#min value of matrix x"
   ]
  },
  {
   "cell_type": "code",
   "execution_count": 132,
   "id": "130bb97c",
   "metadata": {},
   "outputs": [
    {
     "data": {
      "text/plain": [
       "1"
      ]
     },
     "execution_count": 132,
     "metadata": {},
     "output_type": "execute_result"
    }
   ],
   "source": [
    "x.min()"
   ]
  },
  {
   "cell_type": "code",
   "execution_count": null,
   "id": "d5185791",
   "metadata": {},
   "outputs": [],
   "source": [
    "#variance of all elements in x"
   ]
  },
  {
   "cell_type": "code",
   "execution_count": 133,
   "id": "dc9a6afd",
   "metadata": {},
   "outputs": [
    {
     "data": {
      "text/plain": [
       "6.666666666666667"
      ]
     },
     "execution_count": 133,
     "metadata": {},
     "output_type": "execute_result"
    }
   ],
   "source": [
    "x.var()"
   ]
  },
  {
   "cell_type": "code",
   "execution_count": null,
   "id": "5f461d94",
   "metadata": {},
   "outputs": [],
   "source": [
    "#to get all elements of 2D array in 1D array , we use a function called as \"ravel\""
   ]
  },
  {
   "cell_type": "code",
   "execution_count": 134,
   "id": "cafb1ffd",
   "metadata": {},
   "outputs": [
    {
     "data": {
      "text/plain": [
       "array([1, 2, 3, 4, 5, 6, 7, 8, 9, 1, 2, 3, 4, 5, 6, 7, 8, 9])"
      ]
     },
     "execution_count": 134,
     "metadata": {},
     "output_type": "execute_result"
    }
   ],
   "source": [
    "x.ravel()"
   ]
  },
  {
   "cell_type": "code",
   "execution_count": null,
   "id": "410ed677",
   "metadata": {},
   "outputs": [],
   "source": []
  }
 ],
 "metadata": {
  "kernelspec": {
   "display_name": "Python 3 (ipykernel)",
   "language": "python",
   "name": "python3"
  },
  "language_info": {
   "codemirror_mode": {
    "name": "ipython",
    "version": 3
   },
   "file_extension": ".py",
   "mimetype": "text/x-python",
   "name": "python",
   "nbconvert_exporter": "python",
   "pygments_lexer": "ipython3",
   "version": "3.11.5"
  }
 },
 "nbformat": 4,
 "nbformat_minor": 5
}
